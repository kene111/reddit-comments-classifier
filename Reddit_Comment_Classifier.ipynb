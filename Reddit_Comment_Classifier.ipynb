{
  "cells": [
    {
      "cell_type": "code",
      "execution_count": null,
      "metadata": {
        "colab": {
          "base_uri": "https://localhost:8080/"
        },
        "id": "97TN93SGaJPc",
        "outputId": "8aba56a8-7905-485e-a3ee-bb950f6858f4"
      },
      "outputs": [
        {
          "output_type": "stream",
          "name": "stdout",
          "text": [
            "Drive already mounted at /content/drive; to attempt to forcibly remount, call drive.mount(\"/content/drive\", force_remount=True).\n"
          ]
        }
      ],
      "source": [
        "from google.colab import drive\n",
        "drive.mount('/content/drive')"
      ]
    },
    {
      "cell_type": "code",
      "execution_count": null,
      "metadata": {
        "id": "KPHyD3AZWCYZ"
      },
      "outputs": [],
      "source": [
        "import numpy as np\n",
        "import pandas as pd\n",
        "from sklearn.model_selection import train_test_split"
      ]
    },
    {
      "cell_type": "code",
      "source": [
        "# Global random state vaulue\n",
        "RANDOM_STATE = 42"
      ],
      "metadata": {
        "id": "y7vFAGF2Ft51"
      },
      "execution_count": null,
      "outputs": []
    },
    {
      "cell_type": "code",
      "execution_count": null,
      "metadata": {
        "id": "wKzT-m1nZ-rb"
      },
      "outputs": [],
      "source": [
        "data = pd.read_csv(\"/content/drive/MyDrive/Finch-Health/data/training_data.csv\")"
      ]
    },
    {
      "cell_type": "code",
      "execution_count": null,
      "metadata": {
        "colab": {
          "base_uri": "https://localhost:8080/",
          "height": 206
        },
        "id": "HXinL4PnarjD",
        "outputId": "166fa318-93a5-4645-b4b2-7a51dcd04dbb"
      },
      "outputs": [
        {
          "output_type": "execute_result",
          "data": {
            "text/plain": [
              "               username        labels  \\\n",
              "0        LoveAGoodTwist  veterinarian   \n",
              "1             drawntage  veterinarian   \n",
              "2        Most-Exit-5507  veterinarian   \n",
              "3            wahznooski  veterinarian   \n",
              "4  Churro_The_fish_Girl  veterinarian   \n",
              "\n",
              "                                            comments  \n",
              "0  Female, Kentucky.  4 years out. Work equine on...  \n",
              "1  Hi, LVT here. Are they nitpicking or are they ...  \n",
              "2  In high school I found a youtube channel calle...  \n",
              "3  As a woman of reproductive age, fuck Texas|As ...  \n",
              "4  what makes you want to become a vet?|what make...  "
            ],
            "text/html": [
              "\n",
              "  <div id=\"df-914f9b94-9677-401e-99f8-e0db9cb42c25\" class=\"colab-df-container\">\n",
              "    <div>\n",
              "<style scoped>\n",
              "    .dataframe tbody tr th:only-of-type {\n",
              "        vertical-align: middle;\n",
              "    }\n",
              "\n",
              "    .dataframe tbody tr th {\n",
              "        vertical-align: top;\n",
              "    }\n",
              "\n",
              "    .dataframe thead th {\n",
              "        text-align: right;\n",
              "    }\n",
              "</style>\n",
              "<table border=\"1\" class=\"dataframe\">\n",
              "  <thead>\n",
              "    <tr style=\"text-align: right;\">\n",
              "      <th></th>\n",
              "      <th>username</th>\n",
              "      <th>labels</th>\n",
              "      <th>comments</th>\n",
              "    </tr>\n",
              "  </thead>\n",
              "  <tbody>\n",
              "    <tr>\n",
              "      <th>0</th>\n",
              "      <td>LoveAGoodTwist</td>\n",
              "      <td>veterinarian</td>\n",
              "      <td>Female, Kentucky.  4 years out. Work equine on...</td>\n",
              "    </tr>\n",
              "    <tr>\n",
              "      <th>1</th>\n",
              "      <td>drawntage</td>\n",
              "      <td>veterinarian</td>\n",
              "      <td>Hi, LVT here. Are they nitpicking or are they ...</td>\n",
              "    </tr>\n",
              "    <tr>\n",
              "      <th>2</th>\n",
              "      <td>Most-Exit-5507</td>\n",
              "      <td>veterinarian</td>\n",
              "      <td>In high school I found a youtube channel calle...</td>\n",
              "    </tr>\n",
              "    <tr>\n",
              "      <th>3</th>\n",
              "      <td>wahznooski</td>\n",
              "      <td>veterinarian</td>\n",
              "      <td>As a woman of reproductive age, fuck Texas|As ...</td>\n",
              "    </tr>\n",
              "    <tr>\n",
              "      <th>4</th>\n",
              "      <td>Churro_The_fish_Girl</td>\n",
              "      <td>veterinarian</td>\n",
              "      <td>what makes you want to become a vet?|what make...</td>\n",
              "    </tr>\n",
              "  </tbody>\n",
              "</table>\n",
              "</div>\n",
              "    <div class=\"colab-df-buttons\">\n",
              "\n",
              "  <div class=\"colab-df-container\">\n",
              "    <button class=\"colab-df-convert\" onclick=\"convertToInteractive('df-914f9b94-9677-401e-99f8-e0db9cb42c25')\"\n",
              "            title=\"Convert this dataframe to an interactive table.\"\n",
              "            style=\"display:none;\">\n",
              "\n",
              "  <svg xmlns=\"http://www.w3.org/2000/svg\" height=\"24px\" viewBox=\"0 -960 960 960\">\n",
              "    <path d=\"M120-120v-720h720v720H120Zm60-500h600v-160H180v160Zm220 220h160v-160H400v160Zm0 220h160v-160H400v160ZM180-400h160v-160H180v160Zm440 0h160v-160H620v160ZM180-180h160v-160H180v160Zm440 0h160v-160H620v160Z\"/>\n",
              "  </svg>\n",
              "    </button>\n",
              "\n",
              "  <style>\n",
              "    .colab-df-container {\n",
              "      display:flex;\n",
              "      gap: 12px;\n",
              "    }\n",
              "\n",
              "    .colab-df-convert {\n",
              "      background-color: #E8F0FE;\n",
              "      border: none;\n",
              "      border-radius: 50%;\n",
              "      cursor: pointer;\n",
              "      display: none;\n",
              "      fill: #1967D2;\n",
              "      height: 32px;\n",
              "      padding: 0 0 0 0;\n",
              "      width: 32px;\n",
              "    }\n",
              "\n",
              "    .colab-df-convert:hover {\n",
              "      background-color: #E2EBFA;\n",
              "      box-shadow: 0px 1px 2px rgba(60, 64, 67, 0.3), 0px 1px 3px 1px rgba(60, 64, 67, 0.15);\n",
              "      fill: #174EA6;\n",
              "    }\n",
              "\n",
              "    .colab-df-buttons div {\n",
              "      margin-bottom: 4px;\n",
              "    }\n",
              "\n",
              "    [theme=dark] .colab-df-convert {\n",
              "      background-color: #3B4455;\n",
              "      fill: #D2E3FC;\n",
              "    }\n",
              "\n",
              "    [theme=dark] .colab-df-convert:hover {\n",
              "      background-color: #434B5C;\n",
              "      box-shadow: 0px 1px 3px 1px rgba(0, 0, 0, 0.15);\n",
              "      filter: drop-shadow(0px 1px 2px rgba(0, 0, 0, 0.3));\n",
              "      fill: #FFFFFF;\n",
              "    }\n",
              "  </style>\n",
              "\n",
              "    <script>\n",
              "      const buttonEl =\n",
              "        document.querySelector('#df-914f9b94-9677-401e-99f8-e0db9cb42c25 button.colab-df-convert');\n",
              "      buttonEl.style.display =\n",
              "        google.colab.kernel.accessAllowed ? 'block' : 'none';\n",
              "\n",
              "      async function convertToInteractive(key) {\n",
              "        const element = document.querySelector('#df-914f9b94-9677-401e-99f8-e0db9cb42c25');\n",
              "        const dataTable =\n",
              "          await google.colab.kernel.invokeFunction('convertToInteractive',\n",
              "                                                    [key], {});\n",
              "        if (!dataTable) return;\n",
              "\n",
              "        const docLinkHtml = 'Like what you see? Visit the ' +\n",
              "          '<a target=\"_blank\" href=https://colab.research.google.com/notebooks/data_table.ipynb>data table notebook</a>'\n",
              "          + ' to learn more about interactive tables.';\n",
              "        element.innerHTML = '';\n",
              "        dataTable['output_type'] = 'display_data';\n",
              "        await google.colab.output.renderOutput(dataTable, element);\n",
              "        const docLink = document.createElement('div');\n",
              "        docLink.innerHTML = docLinkHtml;\n",
              "        element.appendChild(docLink);\n",
              "      }\n",
              "    </script>\n",
              "  </div>\n",
              "\n",
              "\n",
              "<div id=\"df-1e2b64bc-2320-4fd3-bd81-7a465187b296\">\n",
              "  <button class=\"colab-df-quickchart\" onclick=\"quickchart('df-1e2b64bc-2320-4fd3-bd81-7a465187b296')\"\n",
              "            title=\"Suggest charts\"\n",
              "            style=\"display:none;\">\n",
              "\n",
              "<svg xmlns=\"http://www.w3.org/2000/svg\" height=\"24px\"viewBox=\"0 0 24 24\"\n",
              "     width=\"24px\">\n",
              "    <g>\n",
              "        <path d=\"M19 3H5c-1.1 0-2 .9-2 2v14c0 1.1.9 2 2 2h14c1.1 0 2-.9 2-2V5c0-1.1-.9-2-2-2zM9 17H7v-7h2v7zm4 0h-2V7h2v10zm4 0h-2v-4h2v4z\"/>\n",
              "    </g>\n",
              "</svg>\n",
              "  </button>\n",
              "\n",
              "<style>\n",
              "  .colab-df-quickchart {\n",
              "      --bg-color: #E8F0FE;\n",
              "      --fill-color: #1967D2;\n",
              "      --hover-bg-color: #E2EBFA;\n",
              "      --hover-fill-color: #174EA6;\n",
              "      --disabled-fill-color: #AAA;\n",
              "      --disabled-bg-color: #DDD;\n",
              "  }\n",
              "\n",
              "  [theme=dark] .colab-df-quickchart {\n",
              "      --bg-color: #3B4455;\n",
              "      --fill-color: #D2E3FC;\n",
              "      --hover-bg-color: #434B5C;\n",
              "      --hover-fill-color: #FFFFFF;\n",
              "      --disabled-bg-color: #3B4455;\n",
              "      --disabled-fill-color: #666;\n",
              "  }\n",
              "\n",
              "  .colab-df-quickchart {\n",
              "    background-color: var(--bg-color);\n",
              "    border: none;\n",
              "    border-radius: 50%;\n",
              "    cursor: pointer;\n",
              "    display: none;\n",
              "    fill: var(--fill-color);\n",
              "    height: 32px;\n",
              "    padding: 0;\n",
              "    width: 32px;\n",
              "  }\n",
              "\n",
              "  .colab-df-quickchart:hover {\n",
              "    background-color: var(--hover-bg-color);\n",
              "    box-shadow: 0 1px 2px rgba(60, 64, 67, 0.3), 0 1px 3px 1px rgba(60, 64, 67, 0.15);\n",
              "    fill: var(--button-hover-fill-color);\n",
              "  }\n",
              "\n",
              "  .colab-df-quickchart-complete:disabled,\n",
              "  .colab-df-quickchart-complete:disabled:hover {\n",
              "    background-color: var(--disabled-bg-color);\n",
              "    fill: var(--disabled-fill-color);\n",
              "    box-shadow: none;\n",
              "  }\n",
              "\n",
              "  .colab-df-spinner {\n",
              "    border: 2px solid var(--fill-color);\n",
              "    border-color: transparent;\n",
              "    border-bottom-color: var(--fill-color);\n",
              "    animation:\n",
              "      spin 1s steps(1) infinite;\n",
              "  }\n",
              "\n",
              "  @keyframes spin {\n",
              "    0% {\n",
              "      border-color: transparent;\n",
              "      border-bottom-color: var(--fill-color);\n",
              "      border-left-color: var(--fill-color);\n",
              "    }\n",
              "    20% {\n",
              "      border-color: transparent;\n",
              "      border-left-color: var(--fill-color);\n",
              "      border-top-color: var(--fill-color);\n",
              "    }\n",
              "    30% {\n",
              "      border-color: transparent;\n",
              "      border-left-color: var(--fill-color);\n",
              "      border-top-color: var(--fill-color);\n",
              "      border-right-color: var(--fill-color);\n",
              "    }\n",
              "    40% {\n",
              "      border-color: transparent;\n",
              "      border-right-color: var(--fill-color);\n",
              "      border-top-color: var(--fill-color);\n",
              "    }\n",
              "    60% {\n",
              "      border-color: transparent;\n",
              "      border-right-color: var(--fill-color);\n",
              "    }\n",
              "    80% {\n",
              "      border-color: transparent;\n",
              "      border-right-color: var(--fill-color);\n",
              "      border-bottom-color: var(--fill-color);\n",
              "    }\n",
              "    90% {\n",
              "      border-color: transparent;\n",
              "      border-bottom-color: var(--fill-color);\n",
              "    }\n",
              "  }\n",
              "</style>\n",
              "\n",
              "  <script>\n",
              "    async function quickchart(key) {\n",
              "      const quickchartButtonEl =\n",
              "        document.querySelector('#' + key + ' button');\n",
              "      quickchartButtonEl.disabled = true;  // To prevent multiple clicks.\n",
              "      quickchartButtonEl.classList.add('colab-df-spinner');\n",
              "      try {\n",
              "        const charts = await google.colab.kernel.invokeFunction(\n",
              "            'suggestCharts', [key], {});\n",
              "      } catch (error) {\n",
              "        console.error('Error during call to suggestCharts:', error);\n",
              "      }\n",
              "      quickchartButtonEl.classList.remove('colab-df-spinner');\n",
              "      quickchartButtonEl.classList.add('colab-df-quickchart-complete');\n",
              "    }\n",
              "    (() => {\n",
              "      let quickchartButtonEl =\n",
              "        document.querySelector('#df-1e2b64bc-2320-4fd3-bd81-7a465187b296 button');\n",
              "      quickchartButtonEl.style.display =\n",
              "        google.colab.kernel.accessAllowed ? 'block' : 'none';\n",
              "    })();\n",
              "  </script>\n",
              "</div>\n",
              "\n",
              "    </div>\n",
              "  </div>\n"
            ],
            "application/vnd.google.colaboratory.intrinsic+json": {
              "type": "dataframe",
              "variable_name": "data",
              "summary": "{\n  \"name\": \"data\",\n  \"rows\": 3276,\n  \"fields\": [\n    {\n      \"column\": \"username\",\n      \"properties\": {\n        \"dtype\": \"string\",\n        \"num_unique_values\": 3275,\n        \"samples\": [\n          \"fcmdl2324\",\n          \"International_Bug110\",\n          \"Leading_Syllabub_771\"\n        ],\n        \"semantic_type\": \"\",\n        \"description\": \"\"\n      }\n    },\n    {\n      \"column\": \"labels\",\n      \"properties\": {\n        \"dtype\": \"category\",\n        \"num_unique_values\": 3,\n        \"samples\": [\n          \"veterinarian\",\n          \"other\",\n          \"medical_doctor\"\n        ],\n        \"semantic_type\": \"\",\n        \"description\": \"\"\n      }\n    },\n    {\n      \"column\": \"comments\",\n      \"properties\": {\n        \"dtype\": \"string\",\n        \"num_unique_values\": 3275,\n        \"samples\": [\n          \"Thank you so so much!!!|Definitely good to know!! Thank you very much!|Thank you!|Thank you very much for your time and educating words. I very much appreciate it. I am definitely jumping the gun but I was just curious to see if I\\u2019d need to have the mentality of going to school for 8 years flat or 12+ hahaha thank you very much!|Haha!! I definitely don\\u2019t blame you! That shit is very very tough, I\\u2019ve had a few friends go through vet school and come out saying the same thing. Absolutely. Not. Hahaha|Thank you!!\",\n          \"The article says the zoo's veterinary team reached out for help from the MDs. And that the team \\\"helped the veterinarians\\\" perform the C-section. So it's not like some MD took it upon themselves to perform surgery a gorilla on their own. Sounds like an appropriate collaboration between two medical teams.|The article says the zoo's veterinary team reached out for help from the MDs. And that the team \\\"helped the veterinarians\\\" perform the C-section. So it's not like some MD took it upon themselves to perform surgery a gorilla on their own. Sounds like an appropriate collaboration between two medical teams.|The article says the zoo's veterinary team reached out for help from the MDs. And that the team \\\"helped the veterinarians\\\" perform the C-section. So it's not like some MD took it upon themselves to perform surgery a gorilla on their own. Sounds like an appropriate collaboration between two medical teams.|The article says the zoo's veterinary team reached out for help from the MDs. And that the team \\\"helped the veterinarians\\\" perform the C-section. So it's not like some MD took it upon themselves to perform surgery a gorilla on their own. Sounds like an appropriate collaboration between two medical teams.|The article says the zoo's veterinary team reached out for help from the MDs. And that the team \\\"helped the veterinarians\\\" perform the C-section. So it's not like some MD took it upon themselves to perform surgery a gorilla on their own. Sounds like an appropriate collaboration between two medical teams.|The article says the zoo's veterinary team reached out for help from the MDs. And that the team \\\"helped the veterinarians\\\" perform the C-section. So it's not like some MD took it upon themselves to perform surgery a gorilla on their own. Sounds like an appropriate collaboration between two medical teams.\",\n          \"If your loan is in USD you have to account for the conversion rate which is currently $1.53 for USD to AUD so you will cover roughly $200-220K. I would transfer the money through https://payments.cohortgo.com/en. I got the best transfer rates from them from Canada to Australia (University of Sydney).|If your loan is in USD you have to account for the conversion rate which is currently $1.53 for USD to AUD so you will cover roughly $200-220K. I would transfer the money through https://payments.cohortgo.com/en. I got the best transfer rates from them from Canada to Australia (University of Sydney).|If your loan is in USD you have to account for the conversion rate which is currently $1.53 for USD to AUD so you will cover roughly $200-220K. I would transfer the money through https://payments.cohortgo.com/en. I got the best transfer rates from them from Canada to Australia (University of Sydney).|If your loan is in USD you have to account for the conversion rate which is currently $1.53 for USD to AUD so you will cover roughly $200-220K. I would transfer the money through https://payments.cohortgo.com/en. I got the best transfer rates from them from Canada to Australia (University of Sydney).|If your loan is in USD you have to account for the conversion rate which is currently $1.53 for USD to AUD so you will cover roughly $200-220K. I would transfer the money through https://payments.cohortgo.com/en. I got the best transfer rates from them from Canada to Australia (University of Sydney).|If your loan is in USD you have to account for the conversion rate which is currently $1.53 for USD to AUD so you will cover roughly $200-220K. I would transfer the money through https://payments.cohortgo.com/en. I got the best transfer rates from them from Canada to Australia (University of Sydney).\"\n        ],\n        \"semantic_type\": \"\",\n        \"description\": \"\"\n      }\n    }\n  ]\n}"
            }
          },
          "metadata": {},
          "execution_count": 5
        }
      ],
      "source": [
        "data.head()"
      ]
    },
    {
      "cell_type": "code",
      "execution_count": null,
      "metadata": {
        "id": "1YPyq0w8aDB2"
      },
      "outputs": [],
      "source": [
        "# focusing on the relevant columns\n",
        "rel_data = data[[\"comments\", \"labels\"]]"
      ]
    },
    {
      "cell_type": "code",
      "execution_count": null,
      "metadata": {
        "colab": {
          "base_uri": "https://localhost:8080/",
          "height": 206
        },
        "id": "p-RmgbnWa_X0",
        "outputId": "b6e1aac7-8505-4099-d5e6-6b36cd32ef60"
      },
      "outputs": [
        {
          "output_type": "execute_result",
          "data": {
            "text/plain": [
              "                                            comments        labels\n",
              "0  Female, Kentucky.  4 years out. Work equine on...  veterinarian\n",
              "1  Hi, LVT here. Are they nitpicking or are they ...  veterinarian\n",
              "2  In high school I found a youtube channel calle...  veterinarian\n",
              "3  As a woman of reproductive age, fuck Texas|As ...  veterinarian\n",
              "4  what makes you want to become a vet?|what make...  veterinarian"
            ],
            "text/html": [
              "\n",
              "  <div id=\"df-bb668ffd-fc0a-4d92-8aaf-d40aae811a7a\" class=\"colab-df-container\">\n",
              "    <div>\n",
              "<style scoped>\n",
              "    .dataframe tbody tr th:only-of-type {\n",
              "        vertical-align: middle;\n",
              "    }\n",
              "\n",
              "    .dataframe tbody tr th {\n",
              "        vertical-align: top;\n",
              "    }\n",
              "\n",
              "    .dataframe thead th {\n",
              "        text-align: right;\n",
              "    }\n",
              "</style>\n",
              "<table border=\"1\" class=\"dataframe\">\n",
              "  <thead>\n",
              "    <tr style=\"text-align: right;\">\n",
              "      <th></th>\n",
              "      <th>comments</th>\n",
              "      <th>labels</th>\n",
              "    </tr>\n",
              "  </thead>\n",
              "  <tbody>\n",
              "    <tr>\n",
              "      <th>0</th>\n",
              "      <td>Female, Kentucky.  4 years out. Work equine on...</td>\n",
              "      <td>veterinarian</td>\n",
              "    </tr>\n",
              "    <tr>\n",
              "      <th>1</th>\n",
              "      <td>Hi, LVT here. Are they nitpicking or are they ...</td>\n",
              "      <td>veterinarian</td>\n",
              "    </tr>\n",
              "    <tr>\n",
              "      <th>2</th>\n",
              "      <td>In high school I found a youtube channel calle...</td>\n",
              "      <td>veterinarian</td>\n",
              "    </tr>\n",
              "    <tr>\n",
              "      <th>3</th>\n",
              "      <td>As a woman of reproductive age, fuck Texas|As ...</td>\n",
              "      <td>veterinarian</td>\n",
              "    </tr>\n",
              "    <tr>\n",
              "      <th>4</th>\n",
              "      <td>what makes you want to become a vet?|what make...</td>\n",
              "      <td>veterinarian</td>\n",
              "    </tr>\n",
              "  </tbody>\n",
              "</table>\n",
              "</div>\n",
              "    <div class=\"colab-df-buttons\">\n",
              "\n",
              "  <div class=\"colab-df-container\">\n",
              "    <button class=\"colab-df-convert\" onclick=\"convertToInteractive('df-bb668ffd-fc0a-4d92-8aaf-d40aae811a7a')\"\n",
              "            title=\"Convert this dataframe to an interactive table.\"\n",
              "            style=\"display:none;\">\n",
              "\n",
              "  <svg xmlns=\"http://www.w3.org/2000/svg\" height=\"24px\" viewBox=\"0 -960 960 960\">\n",
              "    <path d=\"M120-120v-720h720v720H120Zm60-500h600v-160H180v160Zm220 220h160v-160H400v160Zm0 220h160v-160H400v160ZM180-400h160v-160H180v160Zm440 0h160v-160H620v160ZM180-180h160v-160H180v160Zm440 0h160v-160H620v160Z\"/>\n",
              "  </svg>\n",
              "    </button>\n",
              "\n",
              "  <style>\n",
              "    .colab-df-container {\n",
              "      display:flex;\n",
              "      gap: 12px;\n",
              "    }\n",
              "\n",
              "    .colab-df-convert {\n",
              "      background-color: #E8F0FE;\n",
              "      border: none;\n",
              "      border-radius: 50%;\n",
              "      cursor: pointer;\n",
              "      display: none;\n",
              "      fill: #1967D2;\n",
              "      height: 32px;\n",
              "      padding: 0 0 0 0;\n",
              "      width: 32px;\n",
              "    }\n",
              "\n",
              "    .colab-df-convert:hover {\n",
              "      background-color: #E2EBFA;\n",
              "      box-shadow: 0px 1px 2px rgba(60, 64, 67, 0.3), 0px 1px 3px 1px rgba(60, 64, 67, 0.15);\n",
              "      fill: #174EA6;\n",
              "    }\n",
              "\n",
              "    .colab-df-buttons div {\n",
              "      margin-bottom: 4px;\n",
              "    }\n",
              "\n",
              "    [theme=dark] .colab-df-convert {\n",
              "      background-color: #3B4455;\n",
              "      fill: #D2E3FC;\n",
              "    }\n",
              "\n",
              "    [theme=dark] .colab-df-convert:hover {\n",
              "      background-color: #434B5C;\n",
              "      box-shadow: 0px 1px 3px 1px rgba(0, 0, 0, 0.15);\n",
              "      filter: drop-shadow(0px 1px 2px rgba(0, 0, 0, 0.3));\n",
              "      fill: #FFFFFF;\n",
              "    }\n",
              "  </style>\n",
              "\n",
              "    <script>\n",
              "      const buttonEl =\n",
              "        document.querySelector('#df-bb668ffd-fc0a-4d92-8aaf-d40aae811a7a button.colab-df-convert');\n",
              "      buttonEl.style.display =\n",
              "        google.colab.kernel.accessAllowed ? 'block' : 'none';\n",
              "\n",
              "      async function convertToInteractive(key) {\n",
              "        const element = document.querySelector('#df-bb668ffd-fc0a-4d92-8aaf-d40aae811a7a');\n",
              "        const dataTable =\n",
              "          await google.colab.kernel.invokeFunction('convertToInteractive',\n",
              "                                                    [key], {});\n",
              "        if (!dataTable) return;\n",
              "\n",
              "        const docLinkHtml = 'Like what you see? Visit the ' +\n",
              "          '<a target=\"_blank\" href=https://colab.research.google.com/notebooks/data_table.ipynb>data table notebook</a>'\n",
              "          + ' to learn more about interactive tables.';\n",
              "        element.innerHTML = '';\n",
              "        dataTable['output_type'] = 'display_data';\n",
              "        await google.colab.output.renderOutput(dataTable, element);\n",
              "        const docLink = document.createElement('div');\n",
              "        docLink.innerHTML = docLinkHtml;\n",
              "        element.appendChild(docLink);\n",
              "      }\n",
              "    </script>\n",
              "  </div>\n",
              "\n",
              "\n",
              "<div id=\"df-a1dd4ed6-db44-42a1-acdb-a7fef13caaf9\">\n",
              "  <button class=\"colab-df-quickchart\" onclick=\"quickchart('df-a1dd4ed6-db44-42a1-acdb-a7fef13caaf9')\"\n",
              "            title=\"Suggest charts\"\n",
              "            style=\"display:none;\">\n",
              "\n",
              "<svg xmlns=\"http://www.w3.org/2000/svg\" height=\"24px\"viewBox=\"0 0 24 24\"\n",
              "     width=\"24px\">\n",
              "    <g>\n",
              "        <path d=\"M19 3H5c-1.1 0-2 .9-2 2v14c0 1.1.9 2 2 2h14c1.1 0 2-.9 2-2V5c0-1.1-.9-2-2-2zM9 17H7v-7h2v7zm4 0h-2V7h2v10zm4 0h-2v-4h2v4z\"/>\n",
              "    </g>\n",
              "</svg>\n",
              "  </button>\n",
              "\n",
              "<style>\n",
              "  .colab-df-quickchart {\n",
              "      --bg-color: #E8F0FE;\n",
              "      --fill-color: #1967D2;\n",
              "      --hover-bg-color: #E2EBFA;\n",
              "      --hover-fill-color: #174EA6;\n",
              "      --disabled-fill-color: #AAA;\n",
              "      --disabled-bg-color: #DDD;\n",
              "  }\n",
              "\n",
              "  [theme=dark] .colab-df-quickchart {\n",
              "      --bg-color: #3B4455;\n",
              "      --fill-color: #D2E3FC;\n",
              "      --hover-bg-color: #434B5C;\n",
              "      --hover-fill-color: #FFFFFF;\n",
              "      --disabled-bg-color: #3B4455;\n",
              "      --disabled-fill-color: #666;\n",
              "  }\n",
              "\n",
              "  .colab-df-quickchart {\n",
              "    background-color: var(--bg-color);\n",
              "    border: none;\n",
              "    border-radius: 50%;\n",
              "    cursor: pointer;\n",
              "    display: none;\n",
              "    fill: var(--fill-color);\n",
              "    height: 32px;\n",
              "    padding: 0;\n",
              "    width: 32px;\n",
              "  }\n",
              "\n",
              "  .colab-df-quickchart:hover {\n",
              "    background-color: var(--hover-bg-color);\n",
              "    box-shadow: 0 1px 2px rgba(60, 64, 67, 0.3), 0 1px 3px 1px rgba(60, 64, 67, 0.15);\n",
              "    fill: var(--button-hover-fill-color);\n",
              "  }\n",
              "\n",
              "  .colab-df-quickchart-complete:disabled,\n",
              "  .colab-df-quickchart-complete:disabled:hover {\n",
              "    background-color: var(--disabled-bg-color);\n",
              "    fill: var(--disabled-fill-color);\n",
              "    box-shadow: none;\n",
              "  }\n",
              "\n",
              "  .colab-df-spinner {\n",
              "    border: 2px solid var(--fill-color);\n",
              "    border-color: transparent;\n",
              "    border-bottom-color: var(--fill-color);\n",
              "    animation:\n",
              "      spin 1s steps(1) infinite;\n",
              "  }\n",
              "\n",
              "  @keyframes spin {\n",
              "    0% {\n",
              "      border-color: transparent;\n",
              "      border-bottom-color: var(--fill-color);\n",
              "      border-left-color: var(--fill-color);\n",
              "    }\n",
              "    20% {\n",
              "      border-color: transparent;\n",
              "      border-left-color: var(--fill-color);\n",
              "      border-top-color: var(--fill-color);\n",
              "    }\n",
              "    30% {\n",
              "      border-color: transparent;\n",
              "      border-left-color: var(--fill-color);\n",
              "      border-top-color: var(--fill-color);\n",
              "      border-right-color: var(--fill-color);\n",
              "    }\n",
              "    40% {\n",
              "      border-color: transparent;\n",
              "      border-right-color: var(--fill-color);\n",
              "      border-top-color: var(--fill-color);\n",
              "    }\n",
              "    60% {\n",
              "      border-color: transparent;\n",
              "      border-right-color: var(--fill-color);\n",
              "    }\n",
              "    80% {\n",
              "      border-color: transparent;\n",
              "      border-right-color: var(--fill-color);\n",
              "      border-bottom-color: var(--fill-color);\n",
              "    }\n",
              "    90% {\n",
              "      border-color: transparent;\n",
              "      border-bottom-color: var(--fill-color);\n",
              "    }\n",
              "  }\n",
              "</style>\n",
              "\n",
              "  <script>\n",
              "    async function quickchart(key) {\n",
              "      const quickchartButtonEl =\n",
              "        document.querySelector('#' + key + ' button');\n",
              "      quickchartButtonEl.disabled = true;  // To prevent multiple clicks.\n",
              "      quickchartButtonEl.classList.add('colab-df-spinner');\n",
              "      try {\n",
              "        const charts = await google.colab.kernel.invokeFunction(\n",
              "            'suggestCharts', [key], {});\n",
              "      } catch (error) {\n",
              "        console.error('Error during call to suggestCharts:', error);\n",
              "      }\n",
              "      quickchartButtonEl.classList.remove('colab-df-spinner');\n",
              "      quickchartButtonEl.classList.add('colab-df-quickchart-complete');\n",
              "    }\n",
              "    (() => {\n",
              "      let quickchartButtonEl =\n",
              "        document.querySelector('#df-a1dd4ed6-db44-42a1-acdb-a7fef13caaf9 button');\n",
              "      quickchartButtonEl.style.display =\n",
              "        google.colab.kernel.accessAllowed ? 'block' : 'none';\n",
              "    })();\n",
              "  </script>\n",
              "</div>\n",
              "\n",
              "    </div>\n",
              "  </div>\n"
            ],
            "application/vnd.google.colaboratory.intrinsic+json": {
              "type": "dataframe",
              "variable_name": "rel_data",
              "summary": "{\n  \"name\": \"rel_data\",\n  \"rows\": 3276,\n  \"fields\": [\n    {\n      \"column\": \"comments\",\n      \"properties\": {\n        \"dtype\": \"string\",\n        \"num_unique_values\": 3275,\n        \"samples\": [\n          \"Thank you so so much!!!|Definitely good to know!! Thank you very much!|Thank you!|Thank you very much for your time and educating words. I very much appreciate it. I am definitely jumping the gun but I was just curious to see if I\\u2019d need to have the mentality of going to school for 8 years flat or 12+ hahaha thank you very much!|Haha!! I definitely don\\u2019t blame you! That shit is very very tough, I\\u2019ve had a few friends go through vet school and come out saying the same thing. Absolutely. Not. Hahaha|Thank you!!\",\n          \"The article says the zoo's veterinary team reached out for help from the MDs. And that the team \\\"helped the veterinarians\\\" perform the C-section. So it's not like some MD took it upon themselves to perform surgery a gorilla on their own. Sounds like an appropriate collaboration between two medical teams.|The article says the zoo's veterinary team reached out for help from the MDs. And that the team \\\"helped the veterinarians\\\" perform the C-section. So it's not like some MD took it upon themselves to perform surgery a gorilla on their own. Sounds like an appropriate collaboration between two medical teams.|The article says the zoo's veterinary team reached out for help from the MDs. And that the team \\\"helped the veterinarians\\\" perform the C-section. So it's not like some MD took it upon themselves to perform surgery a gorilla on their own. Sounds like an appropriate collaboration between two medical teams.|The article says the zoo's veterinary team reached out for help from the MDs. And that the team \\\"helped the veterinarians\\\" perform the C-section. So it's not like some MD took it upon themselves to perform surgery a gorilla on their own. Sounds like an appropriate collaboration between two medical teams.|The article says the zoo's veterinary team reached out for help from the MDs. And that the team \\\"helped the veterinarians\\\" perform the C-section. So it's not like some MD took it upon themselves to perform surgery a gorilla on their own. Sounds like an appropriate collaboration between two medical teams.|The article says the zoo's veterinary team reached out for help from the MDs. And that the team \\\"helped the veterinarians\\\" perform the C-section. So it's not like some MD took it upon themselves to perform surgery a gorilla on their own. Sounds like an appropriate collaboration between two medical teams.\",\n          \"If your loan is in USD you have to account for the conversion rate which is currently $1.53 for USD to AUD so you will cover roughly $200-220K. I would transfer the money through https://payments.cohortgo.com/en. I got the best transfer rates from them from Canada to Australia (University of Sydney).|If your loan is in USD you have to account for the conversion rate which is currently $1.53 for USD to AUD so you will cover roughly $200-220K. I would transfer the money through https://payments.cohortgo.com/en. I got the best transfer rates from them from Canada to Australia (University of Sydney).|If your loan is in USD you have to account for the conversion rate which is currently $1.53 for USD to AUD so you will cover roughly $200-220K. I would transfer the money through https://payments.cohortgo.com/en. I got the best transfer rates from them from Canada to Australia (University of Sydney).|If your loan is in USD you have to account for the conversion rate which is currently $1.53 for USD to AUD so you will cover roughly $200-220K. I would transfer the money through https://payments.cohortgo.com/en. I got the best transfer rates from them from Canada to Australia (University of Sydney).|If your loan is in USD you have to account for the conversion rate which is currently $1.53 for USD to AUD so you will cover roughly $200-220K. I would transfer the money through https://payments.cohortgo.com/en. I got the best transfer rates from them from Canada to Australia (University of Sydney).|If your loan is in USD you have to account for the conversion rate which is currently $1.53 for USD to AUD so you will cover roughly $200-220K. I would transfer the money through https://payments.cohortgo.com/en. I got the best transfer rates from them from Canada to Australia (University of Sydney).\"\n        ],\n        \"semantic_type\": \"\",\n        \"description\": \"\"\n      }\n    },\n    {\n      \"column\": \"labels\",\n      \"properties\": {\n        \"dtype\": \"category\",\n        \"num_unique_values\": 3,\n        \"samples\": [\n          \"veterinarian\",\n          \"other\",\n          \"medical_doctor\"\n        ],\n        \"semantic_type\": \"\",\n        \"description\": \"\"\n      }\n    }\n  ]\n}"
            }
          },
          "metadata": {},
          "execution_count": 7
        }
      ],
      "source": [
        "rel_data.head()"
      ]
    },
    {
      "cell_type": "code",
      "execution_count": null,
      "metadata": {
        "colab": {
          "base_uri": "https://localhost:8080/"
        },
        "id": "OLmLsshebGuW",
        "outputId": "69e70189-9c0b-47e5-b086-063978a1ac36"
      },
      "outputs": [
        {
          "output_type": "execute_result",
          "data": {
            "text/plain": [
              "False"
            ]
          },
          "metadata": {},
          "execution_count": 8
        }
      ],
      "source": [
        "# Check for null cells\n",
        "rel_data.isnull().values.any()"
      ]
    },
    {
      "cell_type": "code",
      "execution_count": null,
      "metadata": {
        "colab": {
          "base_uri": "https://localhost:8080/"
        },
        "id": "FHO2Ac3fbQny",
        "outputId": "4d72a219-ad96-4d3b-f2b3-c5f60f88bbf8"
      },
      "outputs": [
        {
          "output_type": "execute_result",
          "data": {
            "text/plain": [
              "True"
            ]
          },
          "metadata": {},
          "execution_count": 9
        }
      ],
      "source": [
        "# check for duplicated content.\n",
        "rel_data.duplicated().values.any()"
      ]
    },
    {
      "cell_type": "code",
      "execution_count": null,
      "metadata": {
        "colab": {
          "base_uri": "https://localhost:8080/"
        },
        "id": "80QPhgB0bTeg",
        "outputId": "9b755fde-cc15-4783-c090-a97772aaa08d"
      },
      "outputs": [
        {
          "output_type": "execute_result",
          "data": {
            "text/plain": [
              "1"
            ]
          },
          "metadata": {},
          "execution_count": 10
        }
      ],
      "source": [
        "rel_data.duplicated().sum()"
      ]
    },
    {
      "cell_type": "code",
      "execution_count": null,
      "metadata": {
        "colab": {
          "base_uri": "https://localhost:8080/"
        },
        "id": "jP6xWtOjbbX2",
        "outputId": "3c708e27-36a5-4d57-d8d1-50b2640a4227"
      },
      "outputs": [
        {
          "output_type": "stream",
          "name": "stderr",
          "text": [
            "<ipython-input-11-fbf02923298e>:2: SettingWithCopyWarning: \n",
            "A value is trying to be set on a copy of a slice from a DataFrame\n",
            "\n",
            "See the caveats in the documentation: https://pandas.pydata.org/pandas-docs/stable/user_guide/indexing.html#returning-a-view-versus-a-copy\n",
            "  rel_data.drop_duplicates(keep='last', inplace=True)\n"
          ]
        }
      ],
      "source": [
        "# drop one of the duplicated rows\n",
        "rel_data.drop_duplicates(keep='last', inplace=True)"
      ]
    },
    {
      "cell_type": "code",
      "execution_count": null,
      "metadata": {
        "colab": {
          "base_uri": "https://localhost:8080/",
          "height": 559
        },
        "id": "-QVDEz1Hbf2D",
        "outputId": "e3bb9d19-4328-4972-8804-348081bcb7e5"
      },
      "outputs": [
        {
          "output_type": "execute_result",
          "data": {
            "text/plain": [
              "<Axes: xlabel='labels'>"
            ]
          },
          "metadata": {},
          "execution_count": 12
        },
        {
          "output_type": "display_data",
          "data": {
            "text/plain": [
              "<Figure size 640x480 with 1 Axes>"
            ],
            "image/png": "[encoded data removed]"
          },
          "metadata": {}
        }
      ],
      "source": [
        "# visualise the labels ratio in the dataset.\n",
        "rel_data['labels'].value_counts(normalize = True).plot.bar()"
      ]
    },
    {
      "cell_type": "code",
      "execution_count": null,
      "metadata": {
        "id": "WILV1uQTbnqY"
      },
      "outputs": [],
      "source": [
        "x_data = rel_data[\"comments\"].to_list()\n",
        "y_data = rel_data[\"labels\"].to_list()"
      ]
    },
    {
      "cell_type": "code",
      "execution_count": null,
      "metadata": {
        "id": "GUKpZJdab_Ul"
      },
      "outputs": [],
      "source": [
        "# Split dataset\n",
        "X_train, X_test, y_train, y_test = train_test_split(x_data, y_data, test_size=0.2, random_state=RANDOM_STATE, stratify=y_data)"
      ]
    },
    {
      "cell_type": "markdown",
      "metadata": {
        "id": "iIN6jUOec41B"
      },
      "source": [
        "### Pre-process Text Data"
      ]
    },
    {
      "cell_type": "code",
      "execution_count": null,
      "metadata": {
        "id": "ovtwl6Kjb_Mg"
      },
      "outputs": [],
      "source": [
        "import re\n",
        "import nltk\n",
        "import string\n",
        "from nltk.corpus import stopwords\n",
        "from imblearn.pipeline import Pipeline\n",
        "from nltk.stem import WordNetLemmatizer\n",
        "from nltk.tokenize import word_tokenize\n",
        "from imblearn.over_sampling import SMOTE\n",
        "from sklearn.model_selection import cross_val_score\n",
        "from imblearn.under_sampling import RandomUnderSampler\n",
        "from sklearn.feature_extraction.text import TfidfVectorizer\n",
        "from sklearn.model_selection import RepeatedStratifiedKFold"
      ]
    },
    {
      "cell_type": "code",
      "execution_count": null,
      "metadata": {
        "colab": {
          "base_uri": "https://localhost:8080/"
        },
        "id": "_ON9ICwuc-W8",
        "outputId": "8369aedb-5c30-468f-ec18-06a79252339f"
      },
      "outputs": [
        {
          "output_type": "stream",
          "name": "stderr",
          "text": [
            "[nltk_data] Downloading package punkt to /root/nltk_data...\n",
            "[nltk_data]   Package punkt is already up-to-date!\n",
            "[nltk_data] Downloading package stopwords to /root/nltk_data...\n",
            "[nltk_data]   Package stopwords is already up-to-date!\n",
            "[nltk_data] Downloading package wordnet to /root/nltk_data...\n",
            "[nltk_data]   Package wordnet is already up-to-date!\n"
          ]
        },
        {
          "output_type": "execute_result",
          "data": {
            "text/plain": [
              "True"
            ]
          },
          "metadata": {},
          "execution_count": 16
        }
      ],
      "source": [
        "nltk.download(\"punkt\")\n",
        "nltk.download(\"stopwords\")\n",
        "nltk.download('wordnet')"
      ]
    },
    {
      "cell_type": "code",
      "execution_count": null,
      "metadata": {
        "id": "0__NdVhTc-2D"
      },
      "outputs": [],
      "source": [
        "stop_words = set(stopwords.words(\"english\"))\n",
        "wordnet_lemmatizer = WordNetLemmatizer()"
      ]
    },
    {
      "cell_type": "code",
      "execution_count": null,
      "metadata": {
        "id": "GUnfs6yjdIDs"
      },
      "outputs": [],
      "source": [
        "# preprocess text data\n",
        "def preprocess_text(text):\n",
        "    tokens = word_tokenize(text) # tokenize words.\n",
        "    filtered_tokens = [token.lower() for token in tokens if token.lower() not in stop_words] # remove stopwords.\n",
        "    lemmed_tokens = [wordnet_lemmatizer.lemmatize(token) for token in filtered_tokens] # lemmatize tokens.\n",
        "    text =  \" \".join(lemmed_tokens)\n",
        "    text = re.sub(r'[^\\w\\s]', '', text) # remove punctuations.\n",
        "    text = re.sub(r'\\d', '', text) # remove numbers.\n",
        "    return text"
      ]
    },
    {
      "cell_type": "code",
      "execution_count": null,
      "metadata": {
        "id": "Hz4_uGyXdx8W"
      },
      "outputs": [],
      "source": [
        "data = {'comments': X_train,\n",
        "        'labels': y_train}\n",
        "\n",
        "# Convert the dictionary into DataFrame\n",
        "training_data = pd.DataFrame(data)"
      ]
    },
    {
      "cell_type": "code",
      "execution_count": null,
      "metadata": {
        "id": "xiRwxHCJdx5e"
      },
      "outputs": [],
      "source": [
        "data_test = {'comments': X_test,\n",
        "        'labels': y_test}\n",
        "\n",
        "# Convert the dictionary into DataFrame\n",
        "test_data = pd.DataFrame(data_test)"
      ]
    },
    {
      "cell_type": "code",
      "execution_count": null,
      "metadata": {
        "colab": {
          "base_uri": "https://localhost:8080/",
          "height": 206
        },
        "id": "D3bANoLGeGcS",
        "outputId": "22153a2c-3c86-499d-d227-3248893ec898"
      },
      "outputs": [
        {
          "output_type": "execute_result",
          "data": {
            "text/plain": [
              "                                            comments        labels\n",
              "0  >< Bad timing lol ---> /r/MysteriumNetwork/com...         other\n",
              "1  Not wrong. Left there they cause pain as they ...  veterinarian\n",
              "2  Dont put your computer to sleep.|Dont put your...         other\n",
              "3  on what device you had this on? on some, like ...         other\n",
              "4  Wishing you all the best, for sure your intuit...  veterinarian"
            ],
            "text/html": [
              "\n",
              "  <div id=\"df-ab52750a-2830-4177-b4bf-d8063b1159a4\" class=\"colab-df-container\">\n",
              "    <div>\n",
              "<style scoped>\n",
              "    .dataframe tbody tr th:only-of-type {\n",
              "        vertical-align: middle;\n",
              "    }\n",
              "\n",
              "    .dataframe tbody tr th {\n",
              "        vertical-align: top;\n",
              "    }\n",
              "\n",
              "    .dataframe thead th {\n",
              "        text-align: right;\n",
              "    }\n",
              "</style>\n",
              "<table border=\"1\" class=\"dataframe\">\n",
              "  <thead>\n",
              "    <tr style=\"text-align: right;\">\n",
              "      <th></th>\n",
              "      <th>comments</th>\n",
              "      <th>labels</th>\n",
              "    </tr>\n",
              "  </thead>\n",
              "  <tbody>\n",
              "    <tr>\n",
              "      <th>0</th>\n",
              "      <td>&gt;&lt; Bad timing lol ---&gt; /r/MysteriumNetwork/com...</td>\n",
              "      <td>other</td>\n",
              "    </tr>\n",
              "    <tr>\n",
              "      <th>1</th>\n",
              "      <td>Not wrong. Left there they cause pain as they ...</td>\n",
              "      <td>veterinarian</td>\n",
              "    </tr>\n",
              "    <tr>\n",
              "      <th>2</th>\n",
              "      <td>Dont put your computer to sleep.|Dont put your...</td>\n",
              "      <td>other</td>\n",
              "    </tr>\n",
              "    <tr>\n",
              "      <th>3</th>\n",
              "      <td>on what device you had this on? on some, like ...</td>\n",
              "      <td>other</td>\n",
              "    </tr>\n",
              "    <tr>\n",
              "      <th>4</th>\n",
              "      <td>Wishing you all the best, for sure your intuit...</td>\n",
              "      <td>veterinarian</td>\n",
              "    </tr>\n",
              "  </tbody>\n",
              "</table>\n",
              "</div>\n",
              "    <div class=\"colab-df-buttons\">\n",
              "\n",
              "  <div class=\"colab-df-container\">\n",
              "    <button class=\"colab-df-convert\" onclick=\"convertToInteractive('df-ab52750a-2830-4177-b4bf-d8063b1159a4')\"\n",
              "            title=\"Convert this dataframe to an interactive table.\"\n",
              "            style=\"display:none;\">\n",
              "\n",
              "  <svg xmlns=\"http://www.w3.org/2000/svg\" height=\"24px\" viewBox=\"0 -960 960 960\">\n",
              "    <path d=\"M120-120v-720h720v720H120Zm60-500h600v-160H180v160Zm220 220h160v-160H400v160Zm0 220h160v-160H400v160ZM180-400h160v-160H180v160Zm440 0h160v-160H620v160ZM180-180h160v-160H180v160Zm440 0h160v-160H620v160Z\"/>\n",
              "  </svg>\n",
              "    </button>\n",
              "\n",
              "  <style>\n",
              "    .colab-df-container {\n",
              "      display:flex;\n",
              "      gap: 12px;\n",
              "    }\n",
              "\n",
              "    .colab-df-convert {\n",
              "      background-color: #E8F0FE;\n",
              "      border: none;\n",
              "      border-radius: 50%;\n",
              "      cursor: pointer;\n",
              "      display: none;\n",
              "      fill: #1967D2;\n",
              "      height: 32px;\n",
              "      padding: 0 0 0 0;\n",
              "      width: 32px;\n",
              "    }\n",
              "\n",
              "    .colab-df-convert:hover {\n",
              "      background-color: #E2EBFA;\n",
              "      box-shadow: 0px 1px 2px rgba(60, 64, 67, 0.3), 0px 1px 3px 1px rgba(60, 64, 67, 0.15);\n",
              "      fill: #174EA6;\n",
              "    }\n",
              "\n",
              "    .colab-df-buttons div {\n",
              "      margin-bottom: 4px;\n",
              "    }\n",
              "\n",
              "    [theme=dark] .colab-df-convert {\n",
              "      background-color: #3B4455;\n",
              "      fill: #D2E3FC;\n",
              "    }\n",
              "\n",
              "    [theme=dark] .colab-df-convert:hover {\n",
              "      background-color: #434B5C;\n",
              "      box-shadow: 0px 1px 3px 1px rgba(0, 0, 0, 0.15);\n",
              "      filter: drop-shadow(0px 1px 2px rgba(0, 0, 0, 0.3));\n",
              "      fill: #FFFFFF;\n",
              "    }\n",
              "  </style>\n",
              "\n",
              "    <script>\n",
              "      const buttonEl =\n",
              "        document.querySelector('#df-ab52750a-2830-4177-b4bf-d8063b1159a4 button.colab-df-convert');\n",
              "      buttonEl.style.display =\n",
              "        google.colab.kernel.accessAllowed ? 'block' : 'none';\n",
              "\n",
              "      async function convertToInteractive(key) {\n",
              "        const element = document.querySelector('#df-ab52750a-2830-4177-b4bf-d8063b1159a4');\n",
              "        const dataTable =\n",
              "          await google.colab.kernel.invokeFunction('convertToInteractive',\n",
              "                                                    [key], {});\n",
              "        if (!dataTable) return;\n",
              "\n",
              "        const docLinkHtml = 'Like what you see? Visit the ' +\n",
              "          '<a target=\"_blank\" href=https://colab.research.google.com/notebooks/data_table.ipynb>data table notebook</a>'\n",
              "          + ' to learn more about interactive tables.';\n",
              "        element.innerHTML = '';\n",
              "        dataTable['output_type'] = 'display_data';\n",
              "        await google.colab.output.renderOutput(dataTable, element);\n",
              "        const docLink = document.createElement('div');\n",
              "        docLink.innerHTML = docLinkHtml;\n",
              "        element.appendChild(docLink);\n",
              "      }\n",
              "    </script>\n",
              "  </div>\n",
              "\n",
              "\n",
              "<div id=\"df-d39913e1-d787-440b-87d0-c3360938930e\">\n",
              "  <button class=\"colab-df-quickchart\" onclick=\"quickchart('df-d39913e1-d787-440b-87d0-c3360938930e')\"\n",
              "            title=\"Suggest charts\"\n",
              "            style=\"display:none;\">\n",
              "\n",
              "<svg xmlns=\"http://www.w3.org/2000/svg\" height=\"24px\"viewBox=\"0 0 24 24\"\n",
              "     width=\"24px\">\n",
              "    <g>\n",
              "        <path d=\"M19 3H5c-1.1 0-2 .9-2 2v14c0 1.1.9 2 2 2h14c1.1 0 2-.9 2-2V5c0-1.1-.9-2-2-2zM9 17H7v-7h2v7zm4 0h-2V7h2v10zm4 0h-2v-4h2v4z\"/>\n",
              "    </g>\n",
              "</svg>\n",
              "  </button>\n",
              "\n",
              "<style>\n",
              "  .colab-df-quickchart {\n",
              "      --bg-color: #E8F0FE;\n",
              "      --fill-color: #1967D2;\n",
              "      --hover-bg-color: #E2EBFA;\n",
              "      --hover-fill-color: #174EA6;\n",
              "      --disabled-fill-color: #AAA;\n",
              "      --disabled-bg-color: #DDD;\n",
              "  }\n",
              "\n",
              "  [theme=dark] .colab-df-quickchart {\n",
              "      --bg-color: #3B4455;\n",
              "      --fill-color: #D2E3FC;\n",
              "      --hover-bg-color: #434B5C;\n",
              "      --hover-fill-color: #FFFFFF;\n",
              "      --disabled-bg-color: #3B4455;\n",
              "      --disabled-fill-color: #666;\n",
              "  }\n",
              "\n",
              "  .colab-df-quickchart {\n",
              "    background-color: var(--bg-color);\n",
              "    border: none;\n",
              "    border-radius: 50%;\n",
              "    cursor: pointer;\n",
              "    display: none;\n",
              "    fill: var(--fill-color);\n",
              "    height: 32px;\n",
              "    padding: 0;\n",
              "    width: 32px;\n",
              "  }\n",
              "\n",
              "  .colab-df-quickchart:hover {\n",
              "    background-color: var(--hover-bg-color);\n",
              "    box-shadow: 0 1px 2px rgba(60, 64, 67, 0.3), 0 1px 3px 1px rgba(60, 64, 67, 0.15);\n",
              "    fill: var(--button-hover-fill-color);\n",
              "  }\n",
              "\n",
              "  .colab-df-quickchart-complete:disabled,\n",
              "  .colab-df-quickchart-complete:disabled:hover {\n",
              "    background-color: var(--disabled-bg-color);\n",
              "    fill: var(--disabled-fill-color);\n",
              "    box-shadow: none;\n",
              "  }\n",
              "\n",
              "  .colab-df-spinner {\n",
              "    border: 2px solid var(--fill-color);\n",
              "    border-color: transparent;\n",
              "    border-bottom-color: var(--fill-color);\n",
              "    animation:\n",
              "      spin 1s steps(1) infinite;\n",
              "  }\n",
              "\n",
              "  @keyframes spin {\n",
              "    0% {\n",
              "      border-color: transparent;\n",
              "      border-bottom-color: var(--fill-color);\n",
              "      border-left-color: var(--fill-color);\n",
              "    }\n",
              "    20% {\n",
              "      border-color: transparent;\n",
              "      border-left-color: var(--fill-color);\n",
              "      border-top-color: var(--fill-color);\n",
              "    }\n",
              "    30% {\n",
              "      border-color: transparent;\n",
              "      border-left-color: var(--fill-color);\n",
              "      border-top-color: var(--fill-color);\n",
              "      border-right-color: var(--fill-color);\n",
              "    }\n",
              "    40% {\n",
              "      border-color: transparent;\n",
              "      border-right-color: var(--fill-color);\n",
              "      border-top-color: var(--fill-color);\n",
              "    }\n",
              "    60% {\n",
              "      border-color: transparent;\n",
              "      border-right-color: var(--fill-color);\n",
              "    }\n",
              "    80% {\n",
              "      border-color: transparent;\n",
              "      border-right-color: var(--fill-color);\n",
              "      border-bottom-color: var(--fill-color);\n",
              "    }\n",
              "    90% {\n",
              "      border-color: transparent;\n",
              "      border-bottom-color: var(--fill-color);\n",
              "    }\n",
              "  }\n",
              "</style>\n",
              "\n",
              "  <script>\n",
              "    async function quickchart(key) {\n",
              "      const quickchartButtonEl =\n",
              "        document.querySelector('#' + key + ' button');\n",
              "      quickchartButtonEl.disabled = true;  // To prevent multiple clicks.\n",
              "      quickchartButtonEl.classList.add('colab-df-spinner');\n",
              "      try {\n",
              "        const charts = await google.colab.kernel.invokeFunction(\n",
              "            'suggestCharts', [key], {});\n",
              "      } catch (error) {\n",
              "        console.error('Error during call to suggestCharts:', error);\n",
              "      }\n",
              "      quickchartButtonEl.classList.remove('colab-df-spinner');\n",
              "      quickchartButtonEl.classList.add('colab-df-quickchart-complete');\n",
              "    }\n",
              "    (() => {\n",
              "      let quickchartButtonEl =\n",
              "        document.querySelector('#df-d39913e1-d787-440b-87d0-c3360938930e button');\n",
              "      quickchartButtonEl.style.display =\n",
              "        google.colab.kernel.accessAllowed ? 'block' : 'none';\n",
              "    })();\n",
              "  </script>\n",
              "</div>\n",
              "\n",
              "    </div>\n",
              "  </div>\n"
            ],
            "application/vnd.google.colaboratory.intrinsic+json": {
              "type": "dataframe",
              "variable_name": "training_data",
              "summary": "{\n  \"name\": \"training_data\",\n  \"rows\": 2620,\n  \"fields\": [\n    {\n      \"column\": \"comments\",\n      \"properties\": {\n        \"dtype\": \"string\",\n        \"num_unique_values\": 2620,\n        \"samples\": [\n          \"\\n\\nHey guys, I am an alumni from the University of Florida in Gainesville and didn\\u2019t get into vet school last VMCAS cycle. I\\u2019m currently doing research on vet schools outside of the United States, but I\\u2019m trying to find the best ways to stay involved in Vet-Med since I\\u2019m no longer in Gainesville and don't have access to resources like a pre-veterinary club.\\n\\nAny tips on what else I can do in the meantime? I currently work at a small-animal clinic.\",\n          \"Yes indeed! Mysterium is always doing discounts at every important holidays. I will let you know once I find out the next dates. But I\\u2019m sure there will be a few more this year still.\\n\\nIn order to receive most up to date news I suggest you subscribe on Mysterium Discord: https://discord.gg/uzrX7Utt|It takes time indeed, looks like you have incoming traffic. Tbh, I work everyday for Mysterium project and users do ask for Morroco occasionally. It\\u2019s only a matter of time until you start earning decent MYST. Stay positive and soon enough you will notice. \\n\\nJoin our discord and you can talk with community and other node runners who can help out: https://discord.gg/2f2p4XEp\\n\\nHint: There are a lot of first time node runners, but if you listen to the OGs you can\\u2019t fail. \\ud83d\\ude09 *beware of scammers, do not reply any unsolicited DMs out of nowhere.|There is a new fix update on [Android](https://github.com/mysteriumnetwork/mysterium-vpn-mobile/releases/tag/2.1.12) and should be out soon for Desktop (windows, mac and linux), likely on Monday.\\n\\nThis new update should fix things for good! \\u263a\\ufe0f\\n\\nHope that helps! Let me know otherwise|Yep! You are correct on that! You can also create new identity and use it normally, which is kind of annoying. But the permanent fix is out now for Android. [this new update](https://github.com/mysteriumnetwork/mysterium-vpn-mobile/releases/tag/2.1.12)\\n\\nFor the desktop app still need to be released|Most identities were unaffected. It was only about +10% of all identities that got temporarily affected|Yes indeed! Mysterium is always doing discounts at every important holidays. I will let you know once I find out the next dates. But I\\u2019m sure there will be a few more this year still.\\n\\nIn order to receive most up to date news I suggest you subscribe on Mysterium Discord: https://discord.gg/uzrX7Utt|It takes time indeed, looks like you have incoming traffic. Tbh, I work everyday for Mysterium project and users do ask for Morroco occasionally. It\\u2019s only a matter of time until you start earning decent MYST. Stay positive and soon enough you will notice. \\n\\nJoin our discord and you can talk with community and other node runners who can help out: https://discord.gg/2f2p4XEp\\n\\nHint: There are a lot of first time node runners, but if you listen to the OGs you can\\u2019t fail. \\ud83d\\ude09 *beware of scammers, do not reply any unsolicited DMs out of nowhere.|There is a new fix update on [Android](https://github.com/mysteriumnetwork/mysterium-vpn-mobile/releases/tag/2.1.12) and should be out soon for Desktop (windows, mac and linux), likely on Monday.\\n\\nThis new update should fix things for good! \\u263a\\ufe0f\\n\\nHope that helps! Let me know otherwise|Yep! You are correct on that! You can also create new identity and use it normally, which is kind of annoying. But the permanent fix is out now for Android. [this new update](https://github.com/mysteriumnetwork/mysterium-vpn-mobile/releases/tag/2.1.12)\\n\\nFor the desktop app still need to be released|Most identities were unaffected. It was only about +10% of all identities that got temporarily affected|Yes indeed! Mysterium is always doing discounts at every important holidays. I will let you know once I find out the next dates. But I\\u2019m sure there will be a few more this year still.\\n\\nIn order to receive most up to date news I suggest you subscribe on Mysterium Discord: https://discord.gg/uzrX7Utt|It takes time indeed, looks like you have incoming traffic. Tbh, I work everyday for Mysterium project and users do ask for Morroco occasionally. It\\u2019s only a matter of time until you start earning decent MYST. Stay positive and soon enough you will notice. \\n\\nJoin our discord and you can talk with community and other node runners who can help out: https://discord.gg/2f2p4XEp\\n\\nHint: There are a lot of first time node runners, but if you listen to the OGs you can\\u2019t fail. \\ud83d\\ude09 *beware of scammers, do not reply any unsolicited DMs out of nowhere.|There is a new fix update on [Android](https://github.com/mysteriumnetwork/mysterium-vpn-mobile/releases/tag/2.1.12) and should be out soon for Desktop (windows, mac and linux), likely on Monday.\\n\\nThis new update should fix things for good! \\u263a\\ufe0f\\n\\nHope that helps! Let me know otherwise|Yep! You are correct on that! You can also create new identity and use it normally, which is kind of annoying. But the permanent fix is out now for Android. [this new update](https://github.com/mysteriumnetwork/mysterium-vpn-mobile/releases/tag/2.1.12)\\n\\nFor the desktop app still need to be released|Most identities were unaffected. It was only about +10% of all identities that got temporarily affected|Yes indeed! Mysterium is always doing discounts at every important holidays. I will let you know once I find out the next dates. But I\\u2019m sure there will be a few more this year still.\\n\\nIn order to receive most up to date news I suggest you subscribe on Mysterium Discord: https://discord.gg/uzrX7Utt|It takes time indeed, looks like you have incoming traffic. Tbh, I work everyday for Mysterium project and users do ask for Morroco occasionally. It\\u2019s only a matter of time until you start earning decent MYST. Stay positive and soon enough you will notice. \\n\\nJoin our discord and you can talk with community and other node runners who can help out: https://discord.gg/2f2p4XEp\\n\\nHint: There are a lot of first time node runners, but if you listen to the OGs you can\\u2019t fail. \\ud83d\\ude09 *beware of scammers, do not reply any unsolicited DMs out of nowhere.|There is a new fix update on [Android](https://github.com/mysteriumnetwork/mysterium-vpn-mobile/releases/tag/2.1.12) and should be out soon for Desktop (windows, mac and linux), likely on Monday.\\n\\nThis new update should fix things for good! \\u263a\\ufe0f\\n\\nHope that helps! Let me know otherwise|Yep! You are correct on that! You can also create new identity and use it normally, which is kind of annoying. But the permanent fix is out now for Android. [this new update](https://github.com/mysteriumnetwork/mysterium-vpn-mobile/releases/tag/2.1.12)\\n\\nFor the desktop app still need to be released|Most identities were unaffected. It was only about +10% of all identities that got temporarily affected|Yes indeed! Mysterium is always doing discounts at every important holidays. I will let you know once I find out the next dates. But I\\u2019m sure there will be a few more this year still.\\n\\nIn order to receive most up to date news I suggest you subscribe on Mysterium Discord: https://discord.gg/uzrX7Utt|It takes time indeed, looks like you have incoming traffic. Tbh, I work everyday for Mysterium project and users do ask for Morroco occasionally. It\\u2019s only a matter of time until you start earning decent MYST. Stay positive and soon enough you will notice. \\n\\nJoin our discord and you can talk with community and other node runners who can help out: https://discord.gg/2f2p4XEp\\n\\nHint: There are a lot of first time node runners, but if you listen to the OGs you can\\u2019t fail. \\ud83d\\ude09 *beware of scammers, do not reply any unsolicited DMs out of nowhere.|There is a new fix update on [Android](https://github.com/mysteriumnetwork/mysterium-vpn-mobile/releases/tag/2.1.12) and should be out soon for Desktop (windows, mac and linux), likely on Monday.\\n\\nThis new update should fix things for good! \\u263a\\ufe0f\\n\\nHope that helps! Let me know otherwise|Yep! You are correct on that! You can also create new identity and use it normally, which is kind of annoying. But the permanent fix is out now for Android. [this new update](https://github.com/mysteriumnetwork/mysterium-vpn-mobile/releases/tag/2.1.12)\\n\\nFor the desktop app still need to be released|Most identities were unaffected. It was only about +10% of all identities that got temporarily affected|Yes indeed! Mysterium is always doing discounts at every important holidays. I will let you know once I find out the next dates. But I\\u2019m sure there will be a few more this year still.\\n\\nIn order to receive most up to date news I suggest you subscribe on Mysterium Discord: https://discord.gg/uzrX7Utt|It takes time indeed, looks like you have incoming traffic. Tbh, I work everyday for Mysterium project and users do ask for Morroco occasionally. It\\u2019s only a matter of time until you start earning decent MYST. Stay positive and soon enough you will notice. \\n\\nJoin our discord and you can talk with community and other node runners who can help out: https://discord.gg/2f2p4XEp\\n\\nHint: There are a lot of first time node runners, but if you listen to the OGs you can\\u2019t fail. \\ud83d\\ude09 *beware of scammers, do not reply any unsolicited DMs out of nowhere.|There is a new fix update on [Android](https://github.com/mysteriumnetwork/mysterium-vpn-mobile/releases/tag/2.1.12) and should be out soon for Desktop (windows, mac and linux), likely on Monday.\\n\\nThis new update should fix things for good! \\u263a\\ufe0f\\n\\nHope that helps! Let me know otherwise|Yep! You are correct on that! You can also create new identity and use it normally, which is kind of annoying. But the permanent fix is out now for Android. [this new update](https://github.com/mysteriumnetwork/mysterium-vpn-mobile/releases/tag/2.1.12)\\n\\nFor the desktop app still need to be released|Most identities were unaffected. It was only about +10% of all identities that got temporarily affected|Yes indeed! Mysterium is always doing discounts at every important holidays. I will let you know once I find out the next dates. But I\\u2019m sure there will be a few more this year still.\\n\\nIn order to receive most up to date news I suggest you subscribe on Mysterium Discord: https://discord.gg/uzrX7Utt|It takes time indeed, looks like you have incoming traffic. Tbh, I work everyday for Mysterium project and users do ask for Morroco occasionally. It\\u2019s only a matter of time until you start earning decent MYST. Stay positive and soon enough you will notice. \\n\\nJoin our discord and you can talk with community and other node runners who can help out: https://discord.gg/2f2p4XEp\\n\\nHint: There are a lot of first time node runners, but if you listen to the OGs you can\\u2019t fail. \\ud83d\\ude09 *beware of scammers, do not reply any unsolicited DMs out of nowhere.|There is a new fix update on [Android](https://github.com/mysteriumnetwork/mysterium-vpn-mobile/releases/tag/2.1.12) and should be out soon for Desktop (windows, mac and linux), likely on Monday.\\n\\nThis new update should fix things for good! \\u263a\\ufe0f\\n\\nHope that helps! Let me know otherwise|Yep! You are correct on that! You can also create new identity and use it normally, which is kind of annoying. But the permanent fix is out now for Android. [this new update](https://github.com/mysteriumnetwork/mysterium-vpn-mobile/releases/tag/2.1.12)\\n\\nFor the desktop app still need to be released|Most identities were unaffected. It was only about +10% of all identities that got temporarily affected | Yes indeed! Mysterium is always doing discounts at every important holidays. I will let you know once I find out the next dates. But I\\u2019m sure there will be a few more this year still.\\n\\nIn order to receive most up to date news I suggest you subscribe on Mysterium Discord: https://discord.gg/uzrX7Utt ---> /r/MysteriumNetwork/comments/19awqeq/will_there_be_another_discount_soon/kioaja3/ | It takes time indeed, looks like you have incoming traffic. Tbh, I work everyday for Mysterium project and users do ask for Morroco occasionally. It\\u2019s only a matter of time until you start earning decent MYST. Stay positive and soon enough you will notice. \\n\\nJoin our discord and you can talk with community and other node runners who can help out: https://discord.gg/2f2p4XEp\\n\\nHint: There are a lot of first time node runners, but if you listen to the OGs you can\\u2019t fail. \\ud83d\\ude09 *beware of scammers, do not reply any unsolicited DMs out of nowhere. ---> /r/MysteriumNetwork/comments/18r98r5/im_i_wasting_my_time_for_a_node_in_morocco/kf8dqrz/ | There is a new fix update on [Android](https://github.com/mysteriumnetwork/mysterium-vpn-mobile/releases/tag/2.1.12) and should be out soon for Desktop (windows, mac and linux), likely on Monday.\\n\\nThis new update should fix things for good! \\u263a\\ufe0f\\n\\nHope that helps! Let me know otherwise ---> /r/MysteriumNetwork/comments/18iyfar/why_is_mysterium_dark_not_working/kdjrhda/ | Yep! You are correct on that! You can also create new identity and use it normally, which is kind of annoying. But the permanent fix is out now for Android. [this new update](https://github.com/mysteriumnetwork/mysterium-vpn-mobile/releases/tag/2.1.12)\\n\\nFor the desktop app still need to be released ---> /r/MysteriumNetwork/comments/18iyfar/why_is_mysterium_dark_not_working/kdjrxet/ | Most identities were unaffected. It was only about +10% of all identities that got temporarily affected ---> /r/MysteriumNetwork/comments/18iyfar/why_is_mysterium_dark_not_working/kdjs5r6/ | If you are using mobile data, make sure you are connected with good quality nodes. Could you please try using wifi from somewhere and see if sessions go longer? ---> /r/MysteriumNetwork/comments/14fuvry/vpn_user_connections_failclose_every_10_minutes/jp2cw4s/ | Still facing the same issue? Normally it may take a few hours before status shows online on mystnodes.\\n\\nOn the contrary, Nodeui will show online right away ---> /r/MysteriumNetwork/comments/109844w/dashboard_status_online_but_mystnodes_says_offline/j3yacl4/ | Looks like auto updating has issues now.\\nPlease download newest app version here:\\n\\nFor Windows: https://github.com/mysteriumnetwork/mysterium-vpn-desktop/releases/download/10.14.2/MysteriumVPN-Setup-10.14.2.exe\\n\\n\\nFor Mac: https://github.com/mysteriumnetwork/mysterium-vpn-desktop/releases/download/10.14.2/MysteriumVPN-10.14.2-universal.dmg\\n\\nLet me know in case it works! ---> /r/MysteriumNetwork/comments/zelvxs/urgent_myst_vpn_downloading_update_forever/iz7euzy/ | Few overlooked but very important steps:\\n\\n- *impotant* Remember to always back up your identity. That way you can always access back or migrate it if you want to:\\n\\nhttps://docs.mysterium.network/for-node-runners/migrating-your-node\\n\\n- Make sure you follow our docs guides in case you face any issues in the process:\\n\\nhttps://docs.mysterium.network/for-node-runners/docker-guide\\n\\nhttps://docs.mysterium.network/for-node-runners/mysterium-node-windows-installer\\n\\nhttps://docs.mysterium.network/for-node-runners/raspberry-pi-guide\\n\\nhttps://docs.mysterium.network/for-node-runners/linux-guide\\n\\n- Make sure to update your beneficiary address as soon as you get some MYST to cover fees. That way you will not have the possibility or forgetting to do so and withdraw landing in a random wallet or an invalid wallet:\\n\\nhttps://docs.mysterium.network/for-node-runners/payout-guide\\n\\n- Mysterium Network does not support multiple devices under a single IP address. Make sure all your nodes are running on different IPs or they WILL NOT earn MYST:\\n\\nhttps://docs.mysterium.network/for-node-runners/multiple-nodes-sharing-the-same-ip-address\\n\\n\\nHope this helps! Feel free to reach us at help@mysterium.network if you face any issues or have any questions.\\n\\n\\u270c\\ufe0f\\ud83d\\udc9c ---> /r/MysteriumNetwork/comments/ww9ym3/what_are_your_tips_for_new_node_runners/ill7qzl/ | You can find data-dir by executing:\\n\\n$docker inspect myst\\n\\u200d\\n\\nAnd locating the Binds:\\n\\n\\n...\\n        \\\"HostConfig\\\": {\\n            \\\"Binds\\\": [\\n                \\\"myst-data:/var/lib/mysterium-node\\\" # \\\"myst-data\\\" is our data-dir\\n            ],\\n            \\\"ContainerIDFile\\\": \\\"\\\",\\n             \\\"LogConfig\\\": {\\n                \\\"Type\\\": \\\"json-file\\\",\\n                \\\"Config\\\": {}\\n            },\\n            \\\"NetworkMode\\\": \\\"default\\\",\\n            \\\"PortBindings\\\": {\\n                \\\"4449/tcp\\\": [\\n                    {\\n...\\n \\nIf you cannot find it or you didn't create a volume for the data dir, you will have to exec in to the docker container and follow our linux/raspberry instructions on how to retrieve it.\\n\\n\\n\\nWhen creating a docker node we recommend you create one using a volume flag for the data-dir for example: -v myst-data:/var/lib/mysterium-node. \\n\\n\\nYou run your myst node container with a volume for the data files. When replacing your container from a new image (to deploy an update), you will use the same volume, and the new container has all the data from the original container. If you followed our [docker  instructions](https://docs.mysterium.network/for-node-runners/docker-guide) then your data-dir is the directory given when creating the volume (in the example case its myst-data). ---> /r/MysteriumNetwork/comments/woh5db/lost_myst_tokens/ikbptdb/ | In the case you still have doubts, please contact us at help@mysterium.network and we can guide you with all the steps to sell your MYST ---> /r/MysteriumNetwork/comments/w0jpm4/selling_myst/igeqm1z/ | Greetings my friend! I am a proud admin of Mysterium Team and I would be happy to help out! Please contact us at [help@mysterium.network](mailto:help@mysterium.network) in our support desk, or DM me on Discord: Silasurfer#8255 / Telegram: silasurf and I will help you out with that fee! \\ud83d\\ude09 \\ud83d\\udc9c\\n\\nAlso I can give you some tips and make sure node is set up properly on your device so you can start earning MYST as soon as possible!\\n\\nLooking forward to your response!\\n\\n*\\\\*Important Note: Admins will never DM you first on our media channels. If someone with my name or similar sends you messages before your first contact be sure it is not me.* ---> /r/MysteriumNetwork/comments/utqesk/no_free_option/i9bflks/ | Alright! Send me a DM there and we can talk ---> /r/MysteriumNetwork/comments/utqesk/no_free_option/i9bfxih/ | Yes! You can enable whitelist feature by going into node ui and checking \\u201cverified traffic only\\u201d option.\\n\\n\\nHere are the full instructions on how to have metamask fully setup to receive MYST:\\n\\nhttps://docs.mysterium.network/node-runners/payout-guide/#using-metamask-with-polygon-myst\\n\\nhttps://docs.mysterium.network/node-runners/payout-guide/#adding-myst-token-to-metamask-on-the-polygon-mainnet ---> /r/MysteriumNetwork/comments/s6ci5m/giving_up_on_mysterium/ht5n1rl/ | Thanks for the heads up! I talk with team about it and look for a solution on how we can make this information more conspicuous. ---> /r/MysteriumNetwork/comments/s6ci5m/giving_up_on_mysterium/ht6ilhb/\",\n          \"How much can the average user expect to earn using Mysterium? Does this upset my current Helium mining setup, as I believe this service does some of the same things?|How much can the average user expect to earn using Mysterium? Does this upset my current Helium mining setup, as I believe this service does some of the same things?|How much can the average user expect to earn using Mysterium? Does this upset my current Helium mining setup, as I believe this service does some of the same things?|How much can the average user expect to earn using Mysterium? Does this upset my current Helium mining setup, as I believe this service does some of the same things?|How much can the average user expect to earn using Mysterium? Does this upset my current Helium mining setup, as I believe this service does some of the same things?|How much can the average user expect to earn using Mysterium? Does this upset my current Helium mining setup, as I believe this service does some of the same things?|How much can the average user expect to earn using Mysterium? Does this upset my current Helium mining setup, as I believe this service does some of the same things?|How much can the average user expect to earn using Mysterium? Does this upset my current Helium mining setup, as I believe this service does some of the same things?|How much can the average user expect to earn using Mysterium? Does this upset my current Helium mining setup, as I believe this service does some of the same things?|How much can the average user expect to earn using Mysterium? Does this upset my current Helium mining setup, as I believe this service does some of the same things?|How much can the average user expect to earn using Mysterium? Does this upset my current Helium mining setup, as I believe this service does some of the same things?|How much can the average user expect to earn using Mysterium? Does this upset my current Helium mining setup, as I believe this service does some of the same things?|How much can the average user expect to earn using Mysterium? Does this upset my current Helium mining setup, as I believe this service does some of the same things?|How much can the average user expect to earn using Mysterium? Does this upset my current Helium mining setup, as I believe this service does some of the same things? | How much can the average user expect to earn using Mysterium? Does this upset my current Helium mining setup, as I believe this service does some of the same things? ---> /r/MysteriumNetwork/comments/18j0a1q/ama_kryptex_x_mystnodes_partnership_earn_crypto/kdwjwrw/\"\n        ],\n        \"semantic_type\": \"\",\n        \"description\": \"\"\n      }\n    },\n    {\n      \"column\": \"labels\",\n      \"properties\": {\n        \"dtype\": \"category\",\n        \"num_unique_values\": 3,\n        \"samples\": [\n          \"other\",\n          \"veterinarian\",\n          \"medical_doctor\"\n        ],\n        \"semantic_type\": \"\",\n        \"description\": \"\"\n      }\n    }\n  ]\n}"
            }
          },
          "metadata": {},
          "execution_count": 21
        }
      ],
      "source": [
        "training_data.head()"
      ]
    },
    {
      "cell_type": "code",
      "execution_count": null,
      "metadata": {
        "colab": {
          "base_uri": "https://localhost:8080/",
          "height": 206
        },
        "id": "SN8oNW3eeLT4",
        "outputId": "54afdaa7-6bf2-46e7-8372-13d281098ab4"
      },
      "outputs": [
        {
          "output_type": "execute_result",
          "data": {
            "text/plain": [
              "                                            comments        labels\n",
              "0  Nice! If anyone is hosting a Mysterium node an...         other\n",
              "1  What do YOU want in a practice? Most new grads...  veterinarian\n",
              "2  Damn I’ve been a vet tech for 3 years and I ju...  veterinarian\n",
              "3  One of my mentors told me it would be the best...  veterinarian\n",
              "4  Hello! When my workplace hired a new grad doct...  veterinarian"
            ],
            "text/html": [
              "\n",
              "  <div id=\"df-079636ab-9016-472e-abd2-4d768dded968\" class=\"colab-df-container\">\n",
              "    <div>\n",
              "<style scoped>\n",
              "    .dataframe tbody tr th:only-of-type {\n",
              "        vertical-align: middle;\n",
              "    }\n",
              "\n",
              "    .dataframe tbody tr th {\n",
              "        vertical-align: top;\n",
              "    }\n",
              "\n",
              "    .dataframe thead th {\n",
              "        text-align: right;\n",
              "    }\n",
              "</style>\n",
              "<table border=\"1\" class=\"dataframe\">\n",
              "  <thead>\n",
              "    <tr style=\"text-align: right;\">\n",
              "      <th></th>\n",
              "      <th>comments</th>\n",
              "      <th>labels</th>\n",
              "    </tr>\n",
              "  </thead>\n",
              "  <tbody>\n",
              "    <tr>\n",
              "      <th>0</th>\n",
              "      <td>Nice! If anyone is hosting a Mysterium node an...</td>\n",
              "      <td>other</td>\n",
              "    </tr>\n",
              "    <tr>\n",
              "      <th>1</th>\n",
              "      <td>What do YOU want in a practice? Most new grads...</td>\n",
              "      <td>veterinarian</td>\n",
              "    </tr>\n",
              "    <tr>\n",
              "      <th>2</th>\n",
              "      <td>Damn I’ve been a vet tech for 3 years and I ju...</td>\n",
              "      <td>veterinarian</td>\n",
              "    </tr>\n",
              "    <tr>\n",
              "      <th>3</th>\n",
              "      <td>One of my mentors told me it would be the best...</td>\n",
              "      <td>veterinarian</td>\n",
              "    </tr>\n",
              "    <tr>\n",
              "      <th>4</th>\n",
              "      <td>Hello! When my workplace hired a new grad doct...</td>\n",
              "      <td>veterinarian</td>\n",
              "    </tr>\n",
              "  </tbody>\n",
              "</table>\n",
              "</div>\n",
              "    <div class=\"colab-df-buttons\">\n",
              "\n",
              "  <div class=\"colab-df-container\">\n",
              "    <button class=\"colab-df-convert\" onclick=\"convertToInteractive('df-079636ab-9016-472e-abd2-4d768dded968')\"\n",
              "            title=\"Convert this dataframe to an interactive table.\"\n",
              "            style=\"display:none;\">\n",
              "\n",
              "  <svg xmlns=\"http://www.w3.org/2000/svg\" height=\"24px\" viewBox=\"0 -960 960 960\">\n",
              "    <path d=\"M120-120v-720h720v720H120Zm60-500h600v-160H180v160Zm220 220h160v-160H400v160Zm0 220h160v-160H400v160ZM180-400h160v-160H180v160Zm440 0h160v-160H620v160ZM180-180h160v-160H180v160Zm440 0h160v-160H620v160Z\"/>\n",
              "  </svg>\n",
              "    </button>\n",
              "\n",
              "  <style>\n",
              "    .colab-df-container {\n",
              "      display:flex;\n",
              "      gap: 12px;\n",
              "    }\n",
              "\n",
              "    .colab-df-convert {\n",
              "      background-color: #E8F0FE;\n",
              "      border: none;\n",
              "      border-radius: 50%;\n",
              "      cursor: pointer;\n",
              "      display: none;\n",
              "      fill: #1967D2;\n",
              "      height: 32px;\n",
              "      padding: 0 0 0 0;\n",
              "      width: 32px;\n",
              "    }\n",
              "\n",
              "    .colab-df-convert:hover {\n",
              "      background-color: #E2EBFA;\n",
              "      box-shadow: 0px 1px 2px rgba(60, 64, 67, 0.3), 0px 1px 3px 1px rgba(60, 64, 67, 0.15);\n",
              "      fill: #174EA6;\n",
              "    }\n",
              "\n",
              "    .colab-df-buttons div {\n",
              "      margin-bottom: 4px;\n",
              "    }\n",
              "\n",
              "    [theme=dark] .colab-df-convert {\n",
              "      background-color: #3B4455;\n",
              "      fill: #D2E3FC;\n",
              "    }\n",
              "\n",
              "    [theme=dark] .colab-df-convert:hover {\n",
              "      background-color: #434B5C;\n",
              "      box-shadow: 0px 1px 3px 1px rgba(0, 0, 0, 0.15);\n",
              "      filter: drop-shadow(0px 1px 2px rgba(0, 0, 0, 0.3));\n",
              "      fill: #FFFFFF;\n",
              "    }\n",
              "  </style>\n",
              "\n",
              "    <script>\n",
              "      const buttonEl =\n",
              "        document.querySelector('#df-079636ab-9016-472e-abd2-4d768dded968 button.colab-df-convert');\n",
              "      buttonEl.style.display =\n",
              "        google.colab.kernel.accessAllowed ? 'block' : 'none';\n",
              "\n",
              "      async function convertToInteractive(key) {\n",
              "        const element = document.querySelector('#df-079636ab-9016-472e-abd2-4d768dded968');\n",
              "        const dataTable =\n",
              "          await google.colab.kernel.invokeFunction('convertToInteractive',\n",
              "                                                    [key], {});\n",
              "        if (!dataTable) return;\n",
              "\n",
              "        const docLinkHtml = 'Like what you see? Visit the ' +\n",
              "          '<a target=\"_blank\" href=https://colab.research.google.com/notebooks/data_table.ipynb>data table notebook</a>'\n",
              "          + ' to learn more about interactive tables.';\n",
              "        element.innerHTML = '';\n",
              "        dataTable['output_type'] = 'display_data';\n",
              "        await google.colab.output.renderOutput(dataTable, element);\n",
              "        const docLink = document.createElement('div');\n",
              "        docLink.innerHTML = docLinkHtml;\n",
              "        element.appendChild(docLink);\n",
              "      }\n",
              "    </script>\n",
              "  </div>\n",
              "\n",
              "\n",
              "<div id=\"df-541db39b-e23c-47ae-9ab8-6f12e1bc00eb\">\n",
              "  <button class=\"colab-df-quickchart\" onclick=\"quickchart('df-541db39b-e23c-47ae-9ab8-6f12e1bc00eb')\"\n",
              "            title=\"Suggest charts\"\n",
              "            style=\"display:none;\">\n",
              "\n",
              "<svg xmlns=\"http://www.w3.org/2000/svg\" height=\"24px\"viewBox=\"0 0 24 24\"\n",
              "     width=\"24px\">\n",
              "    <g>\n",
              "        <path d=\"M19 3H5c-1.1 0-2 .9-2 2v14c0 1.1.9 2 2 2h14c1.1 0 2-.9 2-2V5c0-1.1-.9-2-2-2zM9 17H7v-7h2v7zm4 0h-2V7h2v10zm4 0h-2v-4h2v4z\"/>\n",
              "    </g>\n",
              "</svg>\n",
              "  </button>\n",
              "\n",
              "<style>\n",
              "  .colab-df-quickchart {\n",
              "      --bg-color: #E8F0FE;\n",
              "      --fill-color: #1967D2;\n",
              "      --hover-bg-color: #E2EBFA;\n",
              "      --hover-fill-color: #174EA6;\n",
              "      --disabled-fill-color: #AAA;\n",
              "      --disabled-bg-color: #DDD;\n",
              "  }\n",
              "\n",
              "  [theme=dark] .colab-df-quickchart {\n",
              "      --bg-color: #3B4455;\n",
              "      --fill-color: #D2E3FC;\n",
              "      --hover-bg-color: #434B5C;\n",
              "      --hover-fill-color: #FFFFFF;\n",
              "      --disabled-bg-color: #3B4455;\n",
              "      --disabled-fill-color: #666;\n",
              "  }\n",
              "\n",
              "  .colab-df-quickchart {\n",
              "    background-color: var(--bg-color);\n",
              "    border: none;\n",
              "    border-radius: 50%;\n",
              "    cursor: pointer;\n",
              "    display: none;\n",
              "    fill: var(--fill-color);\n",
              "    height: 32px;\n",
              "    padding: 0;\n",
              "    width: 32px;\n",
              "  }\n",
              "\n",
              "  .colab-df-quickchart:hover {\n",
              "    background-color: var(--hover-bg-color);\n",
              "    box-shadow: 0 1px 2px rgba(60, 64, 67, 0.3), 0 1px 3px 1px rgba(60, 64, 67, 0.15);\n",
              "    fill: var(--button-hover-fill-color);\n",
              "  }\n",
              "\n",
              "  .colab-df-quickchart-complete:disabled,\n",
              "  .colab-df-quickchart-complete:disabled:hover {\n",
              "    background-color: var(--disabled-bg-color);\n",
              "    fill: var(--disabled-fill-color);\n",
              "    box-shadow: none;\n",
              "  }\n",
              "\n",
              "  .colab-df-spinner {\n",
              "    border: 2px solid var(--fill-color);\n",
              "    border-color: transparent;\n",
              "    border-bottom-color: var(--fill-color);\n",
              "    animation:\n",
              "      spin 1s steps(1) infinite;\n",
              "  }\n",
              "\n",
              "  @keyframes spin {\n",
              "    0% {\n",
              "      border-color: transparent;\n",
              "      border-bottom-color: var(--fill-color);\n",
              "      border-left-color: var(--fill-color);\n",
              "    }\n",
              "    20% {\n",
              "      border-color: transparent;\n",
              "      border-left-color: var(--fill-color);\n",
              "      border-top-color: var(--fill-color);\n",
              "    }\n",
              "    30% {\n",
              "      border-color: transparent;\n",
              "      border-left-color: var(--fill-color);\n",
              "      border-top-color: var(--fill-color);\n",
              "      border-right-color: var(--fill-color);\n",
              "    }\n",
              "    40% {\n",
              "      border-color: transparent;\n",
              "      border-right-color: var(--fill-color);\n",
              "      border-top-color: var(--fill-color);\n",
              "    }\n",
              "    60% {\n",
              "      border-color: transparent;\n",
              "      border-right-color: var(--fill-color);\n",
              "    }\n",
              "    80% {\n",
              "      border-color: transparent;\n",
              "      border-right-color: var(--fill-color);\n",
              "      border-bottom-color: var(--fill-color);\n",
              "    }\n",
              "    90% {\n",
              "      border-color: transparent;\n",
              "      border-bottom-color: var(--fill-color);\n",
              "    }\n",
              "  }\n",
              "</style>\n",
              "\n",
              "  <script>\n",
              "    async function quickchart(key) {\n",
              "      const quickchartButtonEl =\n",
              "        document.querySelector('#' + key + ' button');\n",
              "      quickchartButtonEl.disabled = true;  // To prevent multiple clicks.\n",
              "      quickchartButtonEl.classList.add('colab-df-spinner');\n",
              "      try {\n",
              "        const charts = await google.colab.kernel.invokeFunction(\n",
              "            'suggestCharts', [key], {});\n",
              "      } catch (error) {\n",
              "        console.error('Error during call to suggestCharts:', error);\n",
              "      }\n",
              "      quickchartButtonEl.classList.remove('colab-df-spinner');\n",
              "      quickchartButtonEl.classList.add('colab-df-quickchart-complete');\n",
              "    }\n",
              "    (() => {\n",
              "      let quickchartButtonEl =\n",
              "        document.querySelector('#df-541db39b-e23c-47ae-9ab8-6f12e1bc00eb button');\n",
              "      quickchartButtonEl.style.display =\n",
              "        google.colab.kernel.accessAllowed ? 'block' : 'none';\n",
              "    })();\n",
              "  </script>\n",
              "</div>\n",
              "\n",
              "    </div>\n",
              "  </div>\n"
            ],
            "application/vnd.google.colaboratory.intrinsic+json": {
              "type": "dataframe",
              "variable_name": "test_data",
              "summary": "{\n  \"name\": \"test_data\",\n  \"rows\": 655,\n  \"fields\": [\n    {\n      \"column\": \"comments\",\n      \"properties\": {\n        \"dtype\": \"string\",\n        \"num_unique_values\": 655,\n        \"samples\": [\n          \"Assuming you're on the Myst project I just want to confirm that development is ongoing? There has been no change to the roadmap, no legal case, etc. etc.? Basically, is this just a centralized exchange doing centralized exchange things or does it coincide with some MYST event (new wallet maybe, harder to keep updated?)\\n\\nIf we're talking development as usual then I'll just hodl based on wanting this project to be in existence. ---> /r/MysteriumNetwork/comments/7q6v3w/why_is_mysterium_getting_delisted_from_bittrex/dsmw2my/\",\n          \"I was a traditional student but followed a non-traditional path. MPH was my backup plan before vet school. It depends what you want out of life. What do you think you\\u2019ll do with the MPH once you have it?\\n\\nI am a boarded lab animal vet. I find the work extremely rewarding, there\\u2019s a mix of exotic animals, pathology, and research. You can probably make your career what you want. It\\u2019s high paying\\u2014though you have to be okay with tiered elevation (meaning usually you are hired as a clinical vet and promoted up), there is technically an experience route without residency (note: boards are tough without but not impossible), you can get grants and run your own studies if that suites you, there is a lot of pathology involved if you are interested, work-life balance is phenomenal, university or pharma company benefits, and a lot of residencies set you up with an MPH anyway.|It\\u2019s totally fair and not for everyone\\u2014but I can confidently say that I euthanize less animals in lab animal than in practice and also, they need healthcare too!\\n\\nI hope things work out for you!|You\\u2019re definitely a real vet! I\\u2019m a lab animal vet, and sadly sometimes you hear these things being said. But the truth is that just comes from unhappy, insecure people. What are you getting a PhD in? \\n\\nAlso, if you are itching for clinical practice, try working some vaccine clinics when you can or try out relief. On top of some clinical work, you will be able to supplement your PhD \\u201cwages.\\u201d|I totally hear you. But you are also a newer grad, I assume \\u2014 and honestly just being in the field for more years, you will soak up knowledge and skills if you drive yourself to learn and put yourself in positions for hands on experience! You will also have a new skill of running a clinical trial which is well sought after and sometime lucrative! You\\u2019re just carving out your niche\\u2014 it will be great, you will see!|Reach out to the MBL in woods hole \\u2014 the AV there is amazing. She may have some ideas!|I think it is important to remember that grades are not everything. Do well yes \\u2014 but there were so many people in my class that would FIGHT to get for example a 96/100 instead of their 93/100 etc. And they would be so stressed out. \\n\\nLiterally at the end of the first year of vet school, my roommate and I were kicked out of the condo we were sharing with another classmate. Her reasoning was that she was a straight A student and my roommate and had gotten a few Bs. She went on to be completely miserable the rest of the 3 year and my roommate and I really enjoyed vet school. My roommate and I went on to be specialists of different kinds and she went into GP. GP is great, don\\u2019t get me wrong\\u2014 but there is no reason to be so fixated on grades if you are not trying to specialize. And even if you do specialize, a few Bs won\\u2019t ruin your career!|I was a traditional student but followed a non-traditional path. MPH was my backup plan before vet school. It depends what you want out of life. What do you think you\\u2019ll do with the MPH once you have it?\\n\\nI am a boarded lab animal vet. I find the work extremely rewarding, there\\u2019s a mix of exotic animals, pathology, and research. You can probably make your career what you want. It\\u2019s high paying\\u2014though you have to be okay with tiered elevation (meaning usually you are hired as a clinical vet and promoted up), there is technically an experience route without residency (note: boards are tough without but not impossible), you can get grants and run your own studies if that suites you, there is a lot of pathology involved if you are interested, work-life balance is phenomenal, university or pharma company benefits, and a lot of residencies set you up with an MPH anyway.|It\\u2019s totally fair and not for everyone\\u2014but I can confidently say that I euthanize less animals in lab animal than in practice and also, they need healthcare too!\\n\\nI hope things work out for you!|You\\u2019re definitely a real vet! I\\u2019m a lab animal vet, and sadly sometimes you hear these things being said. But the truth is that just comes from unhappy, insecure people. What are you getting a PhD in? \\n\\nAlso, if you are itching for clinical practice, try working some vaccine clinics when you can or try out relief. On top of some clinical work, you will be able to supplement your PhD \\u201cwages.\\u201d|I totally hear you. But you are also a newer grad, I assume \\u2014 and honestly just being in the field for more years, you will soak up knowledge and skills if you drive yourself to learn and put yourself in positions for hands on experience! You will also have a new skill of running a clinical trial which is well sought after and sometime lucrative! You\\u2019re just carving out your niche\\u2014 it will be great, you will see!|Reach out to the MBL in woods hole \\u2014 the AV there is amazing. She may have some ideas!|I think it is important to remember that grades are not everything. Do well yes \\u2014 but there were so many people in my class that would FIGHT to get for example a 96/100 instead of their 93/100 etc. And they would be so stressed out. \\n\\nLiterally at the end of the first year of vet school, my roommate and I were kicked out of the condo we were sharing with another classmate. Her reasoning was that she was a straight A student and my roommate and had gotten a few Bs. She went on to be completely miserable the rest of the 3 year and my roommate and I really enjoyed vet school. My roommate and I went on to be specialists of different kinds and she went into GP. GP is great, don\\u2019t get me wrong\\u2014 but there is no reason to be so fixated on grades if you are not trying to specialize. And even if you do specialize, a few Bs won\\u2019t ruin your career!|I was a traditional student but followed a non-traditional path. MPH was my backup plan before vet school. It depends what you want out of life. What do you think you\\u2019ll do with the MPH once you have it?\\n\\nI am a boarded lab animal vet. I find the work extremely rewarding, there\\u2019s a mix of exotic animals, pathology, and research. You can probably make your career what you want. It\\u2019s high paying\\u2014though you have to be okay with tiered elevation (meaning usually you are hired as a clinical vet and promoted up), there is technically an experience route without residency (note: boards are tough without but not impossible), you can get grants and run your own studies if that suites you, there is a lot of pathology involved if you are interested, work-life balance is phenomenal, university or pharma company benefits, and a lot of residencies set you up with an MPH anyway.|It\\u2019s totally fair and not for everyone\\u2014but I can confidently say that I euthanize less animals in lab animal than in practice and also, they need healthcare too!\\n\\nI hope things work out for you!|You\\u2019re definitely a real vet! I\\u2019m a lab animal vet, and sadly sometimes you hear these things being said. But the truth is that just comes from unhappy, insecure people. What are you getting a PhD in? \\n\\nAlso, if you are itching for clinical practice, try working some vaccine clinics when you can or try out relief. On top of some clinical work, you will be able to supplement your PhD \\u201cwages.\\u201d|I totally hear you. But you are also a newer grad, I assume \\u2014 and honestly just being in the field for more years, you will soak up knowledge and skills if you drive yourself to learn and put yourself in positions for hands on experience! You will also have a new skill of running a clinical trial which is well sought after and sometime lucrative! You\\u2019re just carving out your niche\\u2014 it will be great, you will see!|Reach out to the MBL in woods hole \\u2014 the AV there is amazing. She may have some ideas!|I think it is important to remember that grades are not everything. Do well yes \\u2014 but there were so many people in my class that would FIGHT to get for example a 96/100 instead of their 93/100 etc. And they would be so stressed out. \\n\\nLiterally at the end of the first year of vet school, my roommate and I were kicked out of the condo we were sharing with another classmate. Her reasoning was that she was a straight A student and my roommate and had gotten a few Bs. She went on to be completely miserable the rest of the 3 year and my roommate and I really enjoyed vet school. My roommate and I went on to be specialists of different kinds and she went into GP. GP is great, don\\u2019t get me wrong\\u2014 but there is no reason to be so fixated on grades if you are not trying to specialize. And even if you do specialize, a few Bs won\\u2019t ruin your career!|I was a traditional student but followed a non-traditional path. MPH was my backup plan before vet school. It depends what you want out of life. What do you think you\\u2019ll do with the MPH once you have it?\\n\\nI am a boarded lab animal vet. I find the work extremely rewarding, there\\u2019s a mix of exotic animals, pathology, and research. You can probably make your career what you want. It\\u2019s high paying\\u2014though you have to be okay with tiered elevation (meaning usually you are hired as a clinical vet and promoted up), there is technically an experience route without residency (note: boards are tough without but not impossible), you can get grants and run your own studies if that suites you, there is a lot of pathology involved if you are interested, work-life balance is phenomenal, university or pharma company benefits, and a lot of residencies set you up with an MPH anyway.|It\\u2019s totally fair and not for everyone\\u2014but I can confidently say that I euthanize less animals in lab animal than in practice and also, they need healthcare too!\\n\\nI hope things work out for you!|You\\u2019re definitely a real vet! I\\u2019m a lab animal vet, and sadly sometimes you hear these things being said. But the truth is that just comes from unhappy, insecure people. What are you getting a PhD in? \\n\\nAlso, if you are itching for clinical practice, try working some vaccine clinics when you can or try out relief. On top of some clinical work, you will be able to supplement your PhD \\u201cwages.\\u201d|I totally hear you. But you are also a newer grad, I assume \\u2014 and honestly just being in the field for more years, you will soak up knowledge and skills if you drive yourself to learn and put yourself in positions for hands on experience! You will also have a new skill of running a clinical trial which is well sought after and sometime lucrative! You\\u2019re just carving out your niche\\u2014 it will be great, you will see!|Reach out to the MBL in woods hole \\u2014 the AV there is amazing. She may have some ideas!|I think it is important to remember that grades are not everything. Do well yes \\u2014 but there were so many people in my class that would FIGHT to get for example a 96/100 instead of their 93/100 etc. And they would be so stressed out. \\n\\nLiterally at the end of the first year of vet school, my roommate and I were kicked out of the condo we were sharing with another classmate. Her reasoning was that she was a straight A student and my roommate and had gotten a few Bs. She went on to be completely miserable the rest of the 3 year and my roommate and I really enjoyed vet school. My roommate and I went on to be specialists of different kinds and she went into GP. GP is great, don\\u2019t get me wrong\\u2014 but there is no reason to be so fixated on grades if you are not trying to specialize. And even if you do specialize, a few Bs won\\u2019t ruin your career!|I was a traditional student but followed a non-traditional path. MPH was my backup plan before vet school. It depends what you want out of life. What do you think you\\u2019ll do with the MPH once you have it?\\n\\nI am a boarded lab animal vet. I find the work extremely rewarding, there\\u2019s a mix of exotic animals, pathology, and research. You can probably make your career what you want. It\\u2019s high paying\\u2014though you have to be okay with tiered elevation (meaning usually you are hired as a clinical vet and promoted up), there is technically an experience route without residency (note: boards are tough without but not impossible), you can get grants and run your own studies if that suites you, there is a lot of pathology involved if you are interested, work-life balance is phenomenal, university or pharma company benefits, and a lot of residencies set you up with an MPH anyway.|It\\u2019s totally fair and not for everyone\\u2014but I can confidently say that I euthanize less animals in lab animal than in practice and also, they need healthcare too!\\n\\nI hope things work out for you!|You\\u2019re definitely a real vet! I\\u2019m a lab animal vet, and sadly sometimes you hear these things being said. But the truth is that just comes from unhappy, insecure people. What are you getting a PhD in? \\n\\nAlso, if you are itching for clinical practice, try working some vaccine clinics when you can or try out relief. On top of some clinical work, you will be able to supplement your PhD \\u201cwages.\\u201d|I totally hear you. But you are also a newer grad, I assume \\u2014 and honestly just being in the field for more years, you will soak up knowledge and skills if you drive yourself to learn and put yourself in positions for hands on experience! You will also have a new skill of running a clinical trial which is well sought after and sometime lucrative! You\\u2019re just carving out your niche\\u2014 it will be great, you will see!|Reach out to the MBL in woods hole \\u2014 the AV there is amazing. She may have some ideas!|I think it is important to remember that grades are not everything. Do well yes \\u2014 but there were so many people in my class that would FIGHT to get for example a 96/100 instead of their 93/100 etc. And they would be so stressed out. \\n\\nLiterally at the end of the first year of vet school, my roommate and I were kicked out of the condo we were sharing with another classmate. Her reasoning was that she was a straight A student and my roommate and had gotten a few Bs. She went on to be completely miserable the rest of the 3 year and my roommate and I really enjoyed vet school. My roommate and I went on to be specialists of different kinds and she went into GP. GP is great, don\\u2019t get me wrong\\u2014 but there is no reason to be so fixated on grades if you are not trying to specialize. And even if you do specialize, a few Bs won\\u2019t ruin your career!|I was a traditional student but followed a non-traditional path. MPH was my backup plan before vet school. It depends what you want out of life. What do you think you\\u2019ll do with the MPH once you have it?\\n\\nI am a boarded lab animal vet. I find the work extremely rewarding, there\\u2019s a mix of exotic animals, pathology, and research. You can probably make your career what you want. It\\u2019s high paying\\u2014though you have to be okay with tiered elevation (meaning usually you are hired as a clinical vet and promoted up), there is technically an experience route without residency (note: boards are tough without but not impossible), you can get grants and run your own studies if that suites you, there is a lot of pathology involved if you are interested, work-life balance is phenomenal, university or pharma company benefits, and a lot of residencies set you up with an MPH anyway.|It\\u2019s totally fair and not for everyone\\u2014but I can confidently say that I euthanize less animals in lab animal than in practice and also, they need healthcare too!\\n\\nI hope things work out for you!|You\\u2019re definitely a real vet! I\\u2019m a lab animal vet, and sadly sometimes you hear these things being said. But the truth is that just comes from unhappy, insecure people. What are you getting a PhD in? \\n\\nAlso, if you are itching for clinical practice, try working some vaccine clinics when you can or try out relief. On top of some clinical work, you will be able to supplement your PhD \\u201cwages.\\u201d|I totally hear you. But you are also a newer grad, I assume \\u2014 and honestly just being in the field for more years, you will soak up knowledge and skills if you drive yourself to learn and put yourself in positions for hands on experience! You will also have a new skill of running a clinical trial which is well sought after and sometime lucrative! You\\u2019re just carving out your niche\\u2014 it will be great, you will see!|Reach out to the MBL in woods hole \\u2014 the AV there is amazing. She may have some ideas!|I think it is important to remember that grades are not everything. Do well yes \\u2014 but there were so many people in my class that would FIGHT to get for example a 96/100 instead of their 93/100 etc. And they would be so stressed out. \\n\\nLiterally at the end of the first year of vet school, my roommate and I were kicked out of the condo we were sharing with another classmate. Her reasoning was that she was a straight A student and my roommate and had gotten a few Bs. She went on to be completely miserable the rest of the 3 year and my roommate and I really enjoyed vet school. My roommate and I went on to be specialists of different kinds and she went into GP. GP is great, don\\u2019t get me wrong\\u2014 but there is no reason to be so fixated on grades if you are not trying to specialize. And even if you do specialize, a few Bs won\\u2019t ruin your career!|I was a traditional student but followed a non-traditional path. MPH was my backup plan before vet school. It depends what you want out of life. What do you think you\\u2019ll do with the MPH once you have it?\\n\\nI am a boarded lab animal vet. I find the work extremely rewarding, there\\u2019s a mix of exotic animals, pathology, and research. You can probably make your career what you want. It\\u2019s high paying\\u2014though you have to be okay with tiered elevation (meaning usually you are hired as a clinical vet and promoted up), there is technically an experience route without residency (note: boards are tough without but not impossible), you can get grants and run your own studies if that suites you, there is a lot of pathology involved if you are interested, work-life balance is phenomenal, university or pharma company benefits, and a lot of residencies set you up with an MPH anyway.|It\\u2019s totally fair and not for everyone\\u2014but I can confidently say that I euthanize less animals in lab animal than in practice and also, they need healthcare too!\\n\\nI hope things work out for you!|You\\u2019re definitely a real vet! I\\u2019m a lab animal vet, and sadly sometimes you hear these things being said. But the truth is that just comes from unhappy, insecure people. What are you getting a PhD in? \\n\\nAlso, if you are itching for clinical practice, try working some vaccine clinics when you can or try out relief. On top of some clinical work, you will be able to supplement your PhD \\u201cwages.\\u201d|I totally hear you. But you are also a newer grad, I assume \\u2014 and honestly just being in the field for more years, you will soak up knowledge and skills if you drive yourself to learn and put yourself in positions for hands on experience! You will also have a new skill of running a clinical trial which is well sought after and sometime lucrative! You\\u2019re just carving out your niche\\u2014 it will be great, you will see!|Reach out to the MBL in woods hole \\u2014 the AV there is amazing. She may have some ideas!|I think it is important to remember that grades are not everything. Do well yes \\u2014 but there were so many people in my class that would FIGHT to get for example a 96/100 instead of their 93/100 etc. And they would be so stressed out. \\n\\nLiterally at the end of the first year of vet school, my roommate and I were kicked out of the condo we were sharing with another classmate. Her reasoning was that she was a straight A student and my roommate and had gotten a few Bs. She went on to be completely miserable the rest of the 3 year and my roommate and I really enjoyed vet school. My roommate and I went on to be specialists of different kinds and she went into GP. GP is great, don\\u2019t get me wrong\\u2014 but there is no reason to be so fixated on grades if you are not trying to specialize. And even if you do specialize, a few Bs won\\u2019t ruin your career!\",\n          \"I was home with my parents this week and I swear my mother asked probably 1-2 times an hour if I got anything. As if I\\u2019m not stressed enough!!!! Hopefully tomorrow\\u2026I\\u2019m so proud of everyone that sat for that BEAST of an exam|Some of my classmates have had to do their surgery externships here and I\\u2019ve heard nothing but horror stories. He deserves everything coming to him.|Also in my clinical year and don\\u2019t worry, it has humbled me plenty. It\\u2019s really uncomfortable being put on the spot and feeling stupid, I still don\\u2019t know how to combat the imposter syndrome I\\u2019ve developed \\ud83d\\ude05 but as others have said this is the point of clinics, to help you grow no matter how painful the process might be. Better to not know now and intentionally make an effort to learn, I think it sticks better when I do this. We got this!|Ok sick because reading this as a 4th year with a single surgery under her belt\\u2026ya I just felt extremely inadequate \\ud83d\\ude35\\u200d\\ud83d\\udcab|I was home with my parents this week and I swear my mother asked probably 1-2 times an hour if I got anything. As if I\\u2019m not stressed enough!!!! Hopefully tomorrow\\u2026I\\u2019m so proud of everyone that sat for that BEAST of an exam|Some of my classmates have had to do their surgery externships here and I\\u2019ve heard nothing but horror stories. He deserves everything coming to him.|Also in my clinical year and don\\u2019t worry, it has humbled me plenty. It\\u2019s really uncomfortable being put on the spot and feeling stupid, I still don\\u2019t know how to combat the imposter syndrome I\\u2019ve developed \\ud83d\\ude05 but as others have said this is the point of clinics, to help you grow no matter how painful the process might be. Better to not know now and intentionally make an effort to learn, I think it sticks better when I do this. We got this!|Ok sick because reading this as a 4th year with a single surgery under her belt\\u2026ya I just felt extremely inadequate \\ud83d\\ude35\\u200d\\ud83d\\udcab|I was home with my parents this week and I swear my mother asked probably 1-2 times an hour if I got anything. As if I\\u2019m not stressed enough!!!! Hopefully tomorrow\\u2026I\\u2019m so proud of everyone that sat for that BEAST of an exam|Some of my classmates have had to do their surgery externships here and I\\u2019ve heard nothing but horror stories. He deserves everything coming to him.|Also in my clinical year and don\\u2019t worry, it has humbled me plenty. It\\u2019s really uncomfortable being put on the spot and feeling stupid, I still don\\u2019t know how to combat the imposter syndrome I\\u2019ve developed \\ud83d\\ude05 but as others have said this is the point of clinics, to help you grow no matter how painful the process might be. Better to not know now and intentionally make an effort to learn, I think it sticks better when I do this. We got this!|Ok sick because reading this as a 4th year with a single surgery under her belt\\u2026ya I just felt extremely inadequate \\ud83d\\ude35\\u200d\\ud83d\\udcab|I was home with my parents this week and I swear my mother asked probably 1-2 times an hour if I got anything. As if I\\u2019m not stressed enough!!!! Hopefully tomorrow\\u2026I\\u2019m so proud of everyone that sat for that BEAST of an exam|Some of my classmates have had to do their surgery externships here and I\\u2019ve heard nothing but horror stories. He deserves everything coming to him.|Also in my clinical year and don\\u2019t worry, it has humbled me plenty. It\\u2019s really uncomfortable being put on the spot and feeling stupid, I still don\\u2019t know how to combat the imposter syndrome I\\u2019ve developed \\ud83d\\ude05 but as others have said this is the point of clinics, to help you grow no matter how painful the process might be. Better to not know now and intentionally make an effort to learn, I think it sticks better when I do this. We got this!|Ok sick because reading this as a 4th year with a single surgery under her belt\\u2026ya I just felt extremely inadequate \\ud83d\\ude35\\u200d\\ud83d\\udcab|I was home with my parents this week and I swear my mother asked probably 1-2 times an hour if I got anything. As if I\\u2019m not stressed enough!!!! Hopefully tomorrow\\u2026I\\u2019m so proud of everyone that sat for that BEAST of an exam|Some of my classmates have had to do their surgery externships here and I\\u2019ve heard nothing but horror stories. He deserves everything coming to him.|Also in my clinical year and don\\u2019t worry, it has humbled me plenty. It\\u2019s really uncomfortable being put on the spot and feeling stupid, I still don\\u2019t know how to combat the imposter syndrome I\\u2019ve developed \\ud83d\\ude05 but as others have said this is the point of clinics, to help you grow no matter how painful the process might be. Better to not know now and intentionally make an effort to learn, I think it sticks better when I do this. We got this!|Ok sick because reading this as a 4th year with a single surgery under her belt\\u2026ya I just felt extremely inadequate \\ud83d\\ude35\\u200d\\ud83d\\udcab|I was home with my parents this week and I swear my mother asked probably 1-2 times an hour if I got anything. As if I\\u2019m not stressed enough!!!! Hopefully tomorrow\\u2026I\\u2019m so proud of everyone that sat for that BEAST of an exam|Some of my classmates have had to do their surgery externships here and I\\u2019ve heard nothing but horror stories. He deserves everything coming to him.|Also in my clinical year and don\\u2019t worry, it has humbled me plenty. It\\u2019s really uncomfortable being put on the spot and feeling stupid, I still don\\u2019t know how to combat the imposter syndrome I\\u2019ve developed \\ud83d\\ude05 but as others have said this is the point of clinics, to help you grow no matter how painful the process might be. Better to not know now and intentionally make an effort to learn, I think it sticks better when I do this. We got this!|Ok sick because reading this as a 4th year with a single surgery under her belt\\u2026ya I just felt extremely inadequate \\ud83d\\ude35\\u200d\\ud83d\\udcab\"\n        ],\n        \"semantic_type\": \"\",\n        \"description\": \"\"\n      }\n    },\n    {\n      \"column\": \"labels\",\n      \"properties\": {\n        \"dtype\": \"category\",\n        \"num_unique_values\": 3,\n        \"samples\": [\n          \"other\",\n          \"veterinarian\",\n          \"medical_doctor\"\n        ],\n        \"semantic_type\": \"\",\n        \"description\": \"\"\n      }\n    }\n  ]\n}"
            }
          },
          "metadata": {},
          "execution_count": 22
        }
      ],
      "source": [
        "test_data.head()"
      ]
    },
    {
      "cell_type": "code",
      "execution_count": null,
      "metadata": {
        "colab": {
          "base_uri": "https://localhost:8080/"
        },
        "id": "l3FaL9Y-eBmK",
        "outputId": "70a8b02c-e14c-4ca9-bf34-78d47ccbdd2c"
      },
      "outputs": [
        {
          "output_type": "execute_result",
          "data": {
            "text/plain": [
              "6"
            ]
          },
          "metadata": {},
          "execution_count": 23
        }
      ],
      "source": [
        "minority_class_len = len(training_data[training_data[\"labels\"] == 'medical_doctor'])\n",
        "minority_class_len"
      ]
    },
    {
      "cell_type": "code",
      "source": [
        "# Manually downsampling the majority classes to 60 samples.\n",
        "majority_class_len = 60"
      ],
      "metadata": {
        "id": "L_2VvotzlLTS"
      },
      "execution_count": null,
      "outputs": []
    },
    {
      "cell_type": "code",
      "execution_count": null,
      "metadata": {
        "id": "cb3G6SEkdx2i"
      },
      "outputs": [],
      "source": [
        "other_x = training_data[training_data[\"labels\"] == 'other'].sample(n=majority_class_len, random_state=RANDOM_STATE)\n",
        "medical_x = training_data[training_data[\"labels\"] == 'medical_doctor'].sample(n=minority_class_len, random_state=RANDOM_STATE)\n",
        "veterinaian_x = training_data[training_data[\"labels\"] == 'veterinarian'].sample(n=majority_class_len, random_state=RANDOM_STATE)"
      ]
    },
    {
      "cell_type": "code",
      "execution_count": null,
      "metadata": {
        "id": "7PXyxbQidxzo"
      },
      "outputs": [],
      "source": [
        "final_data = pd.concat([other_x, medical_x, veterinaian_x], ignore_index=True, axis=0)"
      ]
    },
    {
      "cell_type": "code",
      "execution_count": null,
      "metadata": {
        "colab": {
          "base_uri": "https://localhost:8080/",
          "height": 206
        },
        "id": "RoRtEQDKfVcD",
        "outputId": "e5e950c9-a331-48bb-da05-ba0e9105a009"
      },
      "outputs": [
        {
          "output_type": "execute_result",
          "data": {
            "text/plain": [
              "                                            comments labels\n",
              "0  When will you release the payment system? |In ...  other\n",
              "1  The point is that the risk is not worth the re...  other\n",
              "2  This could be due to port restriction/ cone re...  other\n",
              "3  Is there any other projects where I can sell b...  other\n",
              "4  Yeah I did sudo apt get full-upgrade ---> /r/M...  other"
            ],
            "text/html": [
              "\n",
              "  <div id=\"df-3dc534ff-0905-4156-9071-c9dca407d147\" class=\"colab-df-container\">\n",
              "    <div>\n",
              "<style scoped>\n",
              "    .dataframe tbody tr th:only-of-type {\n",
              "        vertical-align: middle;\n",
              "    }\n",
              "\n",
              "    .dataframe tbody tr th {\n",
              "        vertical-align: top;\n",
              "    }\n",
              "\n",
              "    .dataframe thead th {\n",
              "        text-align: right;\n",
              "    }\n",
              "</style>\n",
              "<table border=\"1\" class=\"dataframe\">\n",
              "  <thead>\n",
              "    <tr style=\"text-align: right;\">\n",
              "      <th></th>\n",
              "      <th>comments</th>\n",
              "      <th>labels</th>\n",
              "    </tr>\n",
              "  </thead>\n",
              "  <tbody>\n",
              "    <tr>\n",
              "      <th>0</th>\n",
              "      <td>When will you release the payment system? |In ...</td>\n",
              "      <td>other</td>\n",
              "    </tr>\n",
              "    <tr>\n",
              "      <th>1</th>\n",
              "      <td>The point is that the risk is not worth the re...</td>\n",
              "      <td>other</td>\n",
              "    </tr>\n",
              "    <tr>\n",
              "      <th>2</th>\n",
              "      <td>This could be due to port restriction/ cone re...</td>\n",
              "      <td>other</td>\n",
              "    </tr>\n",
              "    <tr>\n",
              "      <th>3</th>\n",
              "      <td>Is there any other projects where I can sell b...</td>\n",
              "      <td>other</td>\n",
              "    </tr>\n",
              "    <tr>\n",
              "      <th>4</th>\n",
              "      <td>Yeah I did sudo apt get full-upgrade ---&gt; /r/M...</td>\n",
              "      <td>other</td>\n",
              "    </tr>\n",
              "  </tbody>\n",
              "</table>\n",
              "</div>\n",
              "    <div class=\"colab-df-buttons\">\n",
              "\n",
              "  <div class=\"colab-df-container\">\n",
              "    <button class=\"colab-df-convert\" onclick=\"convertToInteractive('df-3dc534ff-0905-4156-9071-c9dca407d147')\"\n",
              "            title=\"Convert this dataframe to an interactive table.\"\n",
              "            style=\"display:none;\">\n",
              "\n",
              "  <svg xmlns=\"http://www.w3.org/2000/svg\" height=\"24px\" viewBox=\"0 -960 960 960\">\n",
              "    <path d=\"M120-120v-720h720v720H120Zm60-500h600v-160H180v160Zm220 220h160v-160H400v160Zm0 220h160v-160H400v160ZM180-400h160v-160H180v160Zm440 0h160v-160H620v160ZM180-180h160v-160H180v160Zm440 0h160v-160H620v160Z\"/>\n",
              "  </svg>\n",
              "    </button>\n",
              "\n",
              "  <style>\n",
              "    .colab-df-container {\n",
              "      display:flex;\n",
              "      gap: 12px;\n",
              "    }\n",
              "\n",
              "    .colab-df-convert {\n",
              "      background-color: #E8F0FE;\n",
              "      border: none;\n",
              "      border-radius: 50%;\n",
              "      cursor: pointer;\n",
              "      display: none;\n",
              "      fill: #1967D2;\n",
              "      height: 32px;\n",
              "      padding: 0 0 0 0;\n",
              "      width: 32px;\n",
              "    }\n",
              "\n",
              "    .colab-df-convert:hover {\n",
              "      background-color: #E2EBFA;\n",
              "      box-shadow: 0px 1px 2px rgba(60, 64, 67, 0.3), 0px 1px 3px 1px rgba(60, 64, 67, 0.15);\n",
              "      fill: #174EA6;\n",
              "    }\n",
              "\n",
              "    .colab-df-buttons div {\n",
              "      margin-bottom: 4px;\n",
              "    }\n",
              "\n",
              "    [theme=dark] .colab-df-convert {\n",
              "      background-color: #3B4455;\n",
              "      fill: #D2E3FC;\n",
              "    }\n",
              "\n",
              "    [theme=dark] .colab-df-convert:hover {\n",
              "      background-color: #434B5C;\n",
              "      box-shadow: 0px 1px 3px 1px rgba(0, 0, 0, 0.15);\n",
              "      filter: drop-shadow(0px 1px 2px rgba(0, 0, 0, 0.3));\n",
              "      fill: #FFFFFF;\n",
              "    }\n",
              "  </style>\n",
              "\n",
              "    <script>\n",
              "      const buttonEl =\n",
              "        document.querySelector('#df-3dc534ff-0905-4156-9071-c9dca407d147 button.colab-df-convert');\n",
              "      buttonEl.style.display =\n",
              "        google.colab.kernel.accessAllowed ? 'block' : 'none';\n",
              "\n",
              "      async function convertToInteractive(key) {\n",
              "        const element = document.querySelector('#df-3dc534ff-0905-4156-9071-c9dca407d147');\n",
              "        const dataTable =\n",
              "          await google.colab.kernel.invokeFunction('convertToInteractive',\n",
              "                                                    [key], {});\n",
              "        if (!dataTable) return;\n",
              "\n",
              "        const docLinkHtml = 'Like what you see? Visit the ' +\n",
              "          '<a target=\"_blank\" href=https://colab.research.google.com/notebooks/data_table.ipynb>data table notebook</a>'\n",
              "          + ' to learn more about interactive tables.';\n",
              "        element.innerHTML = '';\n",
              "        dataTable['output_type'] = 'display_data';\n",
              "        await google.colab.output.renderOutput(dataTable, element);\n",
              "        const docLink = document.createElement('div');\n",
              "        docLink.innerHTML = docLinkHtml;\n",
              "        element.appendChild(docLink);\n",
              "      }\n",
              "    </script>\n",
              "  </div>\n",
              "\n",
              "\n",
              "<div id=\"df-6dd58193-3e50-4c86-afe7-502add8cad1c\">\n",
              "  <button class=\"colab-df-quickchart\" onclick=\"quickchart('df-6dd58193-3e50-4c86-afe7-502add8cad1c')\"\n",
              "            title=\"Suggest charts\"\n",
              "            style=\"display:none;\">\n",
              "\n",
              "<svg xmlns=\"http://www.w3.org/2000/svg\" height=\"24px\"viewBox=\"0 0 24 24\"\n",
              "     width=\"24px\">\n",
              "    <g>\n",
              "        <path d=\"M19 3H5c-1.1 0-2 .9-2 2v14c0 1.1.9 2 2 2h14c1.1 0 2-.9 2-2V5c0-1.1-.9-2-2-2zM9 17H7v-7h2v7zm4 0h-2V7h2v10zm4 0h-2v-4h2v4z\"/>\n",
              "    </g>\n",
              "</svg>\n",
              "  </button>\n",
              "\n",
              "<style>\n",
              "  .colab-df-quickchart {\n",
              "      --bg-color: #E8F0FE;\n",
              "      --fill-color: #1967D2;\n",
              "      --hover-bg-color: #E2EBFA;\n",
              "      --hover-fill-color: #174EA6;\n",
              "      --disabled-fill-color: #AAA;\n",
              "      --disabled-bg-color: #DDD;\n",
              "  }\n",
              "\n",
              "  [theme=dark] .colab-df-quickchart {\n",
              "      --bg-color: #3B4455;\n",
              "      --fill-color: #D2E3FC;\n",
              "      --hover-bg-color: #434B5C;\n",
              "      --hover-fill-color: #FFFFFF;\n",
              "      --disabled-bg-color: #3B4455;\n",
              "      --disabled-fill-color: #666;\n",
              "  }\n",
              "\n",
              "  .colab-df-quickchart {\n",
              "    background-color: var(--bg-color);\n",
              "    border: none;\n",
              "    border-radius: 50%;\n",
              "    cursor: pointer;\n",
              "    display: none;\n",
              "    fill: var(--fill-color);\n",
              "    height: 32px;\n",
              "    padding: 0;\n",
              "    width: 32px;\n",
              "  }\n",
              "\n",
              "  .colab-df-quickchart:hover {\n",
              "    background-color: var(--hover-bg-color);\n",
              "    box-shadow: 0 1px 2px rgba(60, 64, 67, 0.3), 0 1px 3px 1px rgba(60, 64, 67, 0.15);\n",
              "    fill: var(--button-hover-fill-color);\n",
              "  }\n",
              "\n",
              "  .colab-df-quickchart-complete:disabled,\n",
              "  .colab-df-quickchart-complete:disabled:hover {\n",
              "    background-color: var(--disabled-bg-color);\n",
              "    fill: var(--disabled-fill-color);\n",
              "    box-shadow: none;\n",
              "  }\n",
              "\n",
              "  .colab-df-spinner {\n",
              "    border: 2px solid var(--fill-color);\n",
              "    border-color: transparent;\n",
              "    border-bottom-color: var(--fill-color);\n",
              "    animation:\n",
              "      spin 1s steps(1) infinite;\n",
              "  }\n",
              "\n",
              "  @keyframes spin {\n",
              "    0% {\n",
              "      border-color: transparent;\n",
              "      border-bottom-color: var(--fill-color);\n",
              "      border-left-color: var(--fill-color);\n",
              "    }\n",
              "    20% {\n",
              "      border-color: transparent;\n",
              "      border-left-color: var(--fill-color);\n",
              "      border-top-color: var(--fill-color);\n",
              "    }\n",
              "    30% {\n",
              "      border-color: transparent;\n",
              "      border-left-color: var(--fill-color);\n",
              "      border-top-color: var(--fill-color);\n",
              "      border-right-color: var(--fill-color);\n",
              "    }\n",
              "    40% {\n",
              "      border-color: transparent;\n",
              "      border-right-color: var(--fill-color);\n",
              "      border-top-color: var(--fill-color);\n",
              "    }\n",
              "    60% {\n",
              "      border-color: transparent;\n",
              "      border-right-color: var(--fill-color);\n",
              "    }\n",
              "    80% {\n",
              "      border-color: transparent;\n",
              "      border-right-color: var(--fill-color);\n",
              "      border-bottom-color: var(--fill-color);\n",
              "    }\n",
              "    90% {\n",
              "      border-color: transparent;\n",
              "      border-bottom-color: var(--fill-color);\n",
              "    }\n",
              "  }\n",
              "</style>\n",
              "\n",
              "  <script>\n",
              "    async function quickchart(key) {\n",
              "      const quickchartButtonEl =\n",
              "        document.querySelector('#' + key + ' button');\n",
              "      quickchartButtonEl.disabled = true;  // To prevent multiple clicks.\n",
              "      quickchartButtonEl.classList.add('colab-df-spinner');\n",
              "      try {\n",
              "        const charts = await google.colab.kernel.invokeFunction(\n",
              "            'suggestCharts', [key], {});\n",
              "      } catch (error) {\n",
              "        console.error('Error during call to suggestCharts:', error);\n",
              "      }\n",
              "      quickchartButtonEl.classList.remove('colab-df-spinner');\n",
              "      quickchartButtonEl.classList.add('colab-df-quickchart-complete');\n",
              "    }\n",
              "    (() => {\n",
              "      let quickchartButtonEl =\n",
              "        document.querySelector('#df-6dd58193-3e50-4c86-afe7-502add8cad1c button');\n",
              "      quickchartButtonEl.style.display =\n",
              "        google.colab.kernel.accessAllowed ? 'block' : 'none';\n",
              "    })();\n",
              "  </script>\n",
              "</div>\n",
              "\n",
              "    </div>\n",
              "  </div>\n"
            ],
            "application/vnd.google.colaboratory.intrinsic+json": {
              "type": "dataframe",
              "variable_name": "final_data",
              "summary": "{\n  \"name\": \"final_data\",\n  \"rows\": 126,\n  \"fields\": [\n    {\n      \"column\": \"comments\",\n      \"properties\": {\n        \"dtype\": \"string\",\n        \"num_unique_values\": 126,\n        \"samples\": [\n          \"There are wayyyyyyy too many good clinics looking for vets for you to stay in a bad situation like this. Please get out now and find a better place with mentorship. There are soooo many better places to work. A different clinic may not be perfect, but most places are better than this\",\n          \"Thank you so much. ---> /r/MysteriumNetwork/comments/vhh1uh/defining_node_searches/idb5df7/\",\n          \"I\\u2019m a pediatric nurse, can I add that to the venn diagram lol\"\n        ],\n        \"semantic_type\": \"\",\n        \"description\": \"\"\n      }\n    },\n    {\n      \"column\": \"labels\",\n      \"properties\": {\n        \"dtype\": \"category\",\n        \"num_unique_values\": 3,\n        \"samples\": [\n          \"other\",\n          \"medical_doctor\",\n          \"veterinarian\"\n        ],\n        \"semantic_type\": \"\",\n        \"description\": \"\"\n      }\n    }\n  ]\n}"
            }
          },
          "metadata": {},
          "execution_count": 27
        }
      ],
      "source": [
        "final_data.head()"
      ]
    },
    {
      "cell_type": "code",
      "execution_count": null,
      "metadata": {
        "id": "pSBIVqMSfYwc"
      },
      "outputs": [],
      "source": [
        "# pre-process text data.\n",
        "final_data[\"clean_comments\"] = final_data[\"comments\"].apply(lambda x: preprocess_text(x))"
      ]
    },
    {
      "cell_type": "code",
      "execution_count": null,
      "metadata": {
        "colab": {
          "base_uri": "https://localhost:8080/",
          "height": 206
        },
        "id": "hFyf7GTmfccD",
        "outputId": "bc4f5473-c12e-4803-d99a-d78d5ab470c3"
      },
      "outputs": [
        {
          "output_type": "execute_result",
          "data": {
            "text/plain": [
              "                                            comments labels  \\\n",
              "0  When will you release the payment system? |In ...  other   \n",
              "1  The point is that the risk is not worth the re...  other   \n",
              "2  This could be due to port restriction/ cone re...  other   \n",
              "3  Is there any other projects where I can sell b...  other   \n",
              "4  Yeah I did sudo apt get full-upgrade ---> /r/M...  other   \n",
              "\n",
              "                                      clean_comments  \n",
              "0  release payment system  in term security safe ...  \n",
              "1  point risk worth reward  re viewing solely alt...  \n",
              "2  could due port restriction cone restriction  n...  \n",
              "3  project sell bandwidth     rmysteriumnetworkco...  \n",
              "4  yeah sudo apt get fullupgrade    rmysteriumnet...  "
            ],
            "text/html": [
              "\n",
              "  <div id=\"df-e3756efa-7a84-49fd-aeee-43894084fb04\" class=\"colab-df-container\">\n",
              "    <div>\n",
              "<style scoped>\n",
              "    .dataframe tbody tr th:only-of-type {\n",
              "        vertical-align: middle;\n",
              "    }\n",
              "\n",
              "    .dataframe tbody tr th {\n",
              "        vertical-align: top;\n",
              "    }\n",
              "\n",
              "    .dataframe thead th {\n",
              "        text-align: right;\n",
              "    }\n",
              "</style>\n",
              "<table border=\"1\" class=\"dataframe\">\n",
              "  <thead>\n",
              "    <tr style=\"text-align: right;\">\n",
              "      <th></th>\n",
              "      <th>comments</th>\n",
              "      <th>labels</th>\n",
              "      <th>clean_comments</th>\n",
              "    </tr>\n",
              "  </thead>\n",
              "  <tbody>\n",
              "    <tr>\n",
              "      <th>0</th>\n",
              "      <td>When will you release the payment system? |In ...</td>\n",
              "      <td>other</td>\n",
              "      <td>release payment system  in term security safe ...</td>\n",
              "    </tr>\n",
              "    <tr>\n",
              "      <th>1</th>\n",
              "      <td>The point is that the risk is not worth the re...</td>\n",
              "      <td>other</td>\n",
              "      <td>point risk worth reward  re viewing solely alt...</td>\n",
              "    </tr>\n",
              "    <tr>\n",
              "      <th>2</th>\n",
              "      <td>This could be due to port restriction/ cone re...</td>\n",
              "      <td>other</td>\n",
              "      <td>could due port restriction cone restriction  n...</td>\n",
              "    </tr>\n",
              "    <tr>\n",
              "      <th>3</th>\n",
              "      <td>Is there any other projects where I can sell b...</td>\n",
              "      <td>other</td>\n",
              "      <td>project sell bandwidth     rmysteriumnetworkco...</td>\n",
              "    </tr>\n",
              "    <tr>\n",
              "      <th>4</th>\n",
              "      <td>Yeah I did sudo apt get full-upgrade ---&gt; /r/M...</td>\n",
              "      <td>other</td>\n",
              "      <td>yeah sudo apt get fullupgrade    rmysteriumnet...</td>\n",
              "    </tr>\n",
              "  </tbody>\n",
              "</table>\n",
              "</div>\n",
              "    <div class=\"colab-df-buttons\">\n",
              "\n",
              "  <div class=\"colab-df-container\">\n",
              "    <button class=\"colab-df-convert\" onclick=\"convertToInteractive('df-e3756efa-7a84-49fd-aeee-43894084fb04')\"\n",
              "            title=\"Convert this dataframe to an interactive table.\"\n",
              "            style=\"display:none;\">\n",
              "\n",
              "  <svg xmlns=\"http://www.w3.org/2000/svg\" height=\"24px\" viewBox=\"0 -960 960 960\">\n",
              "    <path d=\"M120-120v-720h720v720H120Zm60-500h600v-160H180v160Zm220 220h160v-160H400v160Zm0 220h160v-160H400v160ZM180-400h160v-160H180v160Zm440 0h160v-160H620v160ZM180-180h160v-160H180v160Zm440 0h160v-160H620v160Z\"/>\n",
              "  </svg>\n",
              "    </button>\n",
              "\n",
              "  <style>\n",
              "    .colab-df-container {\n",
              "      display:flex;\n",
              "      gap: 12px;\n",
              "    }\n",
              "\n",
              "    .colab-df-convert {\n",
              "      background-color: #E8F0FE;\n",
              "      border: none;\n",
              "      border-radius: 50%;\n",
              "      cursor: pointer;\n",
              "      display: none;\n",
              "      fill: #1967D2;\n",
              "      height: 32px;\n",
              "      padding: 0 0 0 0;\n",
              "      width: 32px;\n",
              "    }\n",
              "\n",
              "    .colab-df-convert:hover {\n",
              "      background-color: #E2EBFA;\n",
              "      box-shadow: 0px 1px 2px rgba(60, 64, 67, 0.3), 0px 1px 3px 1px rgba(60, 64, 67, 0.15);\n",
              "      fill: #174EA6;\n",
              "    }\n",
              "\n",
              "    .colab-df-buttons div {\n",
              "      margin-bottom: 4px;\n",
              "    }\n",
              "\n",
              "    [theme=dark] .colab-df-convert {\n",
              "      background-color: #3B4455;\n",
              "      fill: #D2E3FC;\n",
              "    }\n",
              "\n",
              "    [theme=dark] .colab-df-convert:hover {\n",
              "      background-color: #434B5C;\n",
              "      box-shadow: 0px 1px 3px 1px rgba(0, 0, 0, 0.15);\n",
              "      filter: drop-shadow(0px 1px 2px rgba(0, 0, 0, 0.3));\n",
              "      fill: #FFFFFF;\n",
              "    }\n",
              "  </style>\n",
              "\n",
              "    <script>\n",
              "      const buttonEl =\n",
              "        document.querySelector('#df-e3756efa-7a84-49fd-aeee-43894084fb04 button.colab-df-convert');\n",
              "      buttonEl.style.display =\n",
              "        google.colab.kernel.accessAllowed ? 'block' : 'none';\n",
              "\n",
              "      async function convertToInteractive(key) {\n",
              "        const element = document.querySelector('#df-e3756efa-7a84-49fd-aeee-43894084fb04');\n",
              "        const dataTable =\n",
              "          await google.colab.kernel.invokeFunction('convertToInteractive',\n",
              "                                                    [key], {});\n",
              "        if (!dataTable) return;\n",
              "\n",
              "        const docLinkHtml = 'Like what you see? Visit the ' +\n",
              "          '<a target=\"_blank\" href=https://colab.research.google.com/notebooks/data_table.ipynb>data table notebook</a>'\n",
              "          + ' to learn more about interactive tables.';\n",
              "        element.innerHTML = '';\n",
              "        dataTable['output_type'] = 'display_data';\n",
              "        await google.colab.output.renderOutput(dataTable, element);\n",
              "        const docLink = document.createElement('div');\n",
              "        docLink.innerHTML = docLinkHtml;\n",
              "        element.appendChild(docLink);\n",
              "      }\n",
              "    </script>\n",
              "  </div>\n",
              "\n",
              "\n",
              "<div id=\"df-b48cde0d-c261-45e9-8681-4ce8549bf184\">\n",
              "  <button class=\"colab-df-quickchart\" onclick=\"quickchart('df-b48cde0d-c261-45e9-8681-4ce8549bf184')\"\n",
              "            title=\"Suggest charts\"\n",
              "            style=\"display:none;\">\n",
              "\n",
              "<svg xmlns=\"http://www.w3.org/2000/svg\" height=\"24px\"viewBox=\"0 0 24 24\"\n",
              "     width=\"24px\">\n",
              "    <g>\n",
              "        <path d=\"M19 3H5c-1.1 0-2 .9-2 2v14c0 1.1.9 2 2 2h14c1.1 0 2-.9 2-2V5c0-1.1-.9-2-2-2zM9 17H7v-7h2v7zm4 0h-2V7h2v10zm4 0h-2v-4h2v4z\"/>\n",
              "    </g>\n",
              "</svg>\n",
              "  </button>\n",
              "\n",
              "<style>\n",
              "  .colab-df-quickchart {\n",
              "      --bg-color: #E8F0FE;\n",
              "      --fill-color: #1967D2;\n",
              "      --hover-bg-color: #E2EBFA;\n",
              "      --hover-fill-color: #174EA6;\n",
              "      --disabled-fill-color: #AAA;\n",
              "      --disabled-bg-color: #DDD;\n",
              "  }\n",
              "\n",
              "  [theme=dark] .colab-df-quickchart {\n",
              "      --bg-color: #3B4455;\n",
              "      --fill-color: #D2E3FC;\n",
              "      --hover-bg-color: #434B5C;\n",
              "      --hover-fill-color: #FFFFFF;\n",
              "      --disabled-bg-color: #3B4455;\n",
              "      --disabled-fill-color: #666;\n",
              "  }\n",
              "\n",
              "  .colab-df-quickchart {\n",
              "    background-color: var(--bg-color);\n",
              "    border: none;\n",
              "    border-radius: 50%;\n",
              "    cursor: pointer;\n",
              "    display: none;\n",
              "    fill: var(--fill-color);\n",
              "    height: 32px;\n",
              "    padding: 0;\n",
              "    width: 32px;\n",
              "  }\n",
              "\n",
              "  .colab-df-quickchart:hover {\n",
              "    background-color: var(--hover-bg-color);\n",
              "    box-shadow: 0 1px 2px rgba(60, 64, 67, 0.3), 0 1px 3px 1px rgba(60, 64, 67, 0.15);\n",
              "    fill: var(--button-hover-fill-color);\n",
              "  }\n",
              "\n",
              "  .colab-df-quickchart-complete:disabled,\n",
              "  .colab-df-quickchart-complete:disabled:hover {\n",
              "    background-color: var(--disabled-bg-color);\n",
              "    fill: var(--disabled-fill-color);\n",
              "    box-shadow: none;\n",
              "  }\n",
              "\n",
              "  .colab-df-spinner {\n",
              "    border: 2px solid var(--fill-color);\n",
              "    border-color: transparent;\n",
              "    border-bottom-color: var(--fill-color);\n",
              "    animation:\n",
              "      spin 1s steps(1) infinite;\n",
              "  }\n",
              "\n",
              "  @keyframes spin {\n",
              "    0% {\n",
              "      border-color: transparent;\n",
              "      border-bottom-color: var(--fill-color);\n",
              "      border-left-color: var(--fill-color);\n",
              "    }\n",
              "    20% {\n",
              "      border-color: transparent;\n",
              "      border-left-color: var(--fill-color);\n",
              "      border-top-color: var(--fill-color);\n",
              "    }\n",
              "    30% {\n",
              "      border-color: transparent;\n",
              "      border-left-color: var(--fill-color);\n",
              "      border-top-color: var(--fill-color);\n",
              "      border-right-color: var(--fill-color);\n",
              "    }\n",
              "    40% {\n",
              "      border-color: transparent;\n",
              "      border-right-color: var(--fill-color);\n",
              "      border-top-color: var(--fill-color);\n",
              "    }\n",
              "    60% {\n",
              "      border-color: transparent;\n",
              "      border-right-color: var(--fill-color);\n",
              "    }\n",
              "    80% {\n",
              "      border-color: transparent;\n",
              "      border-right-color: var(--fill-color);\n",
              "      border-bottom-color: var(--fill-color);\n",
              "    }\n",
              "    90% {\n",
              "      border-color: transparent;\n",
              "      border-bottom-color: var(--fill-color);\n",
              "    }\n",
              "  }\n",
              "</style>\n",
              "\n",
              "  <script>\n",
              "    async function quickchart(key) {\n",
              "      const quickchartButtonEl =\n",
              "        document.querySelector('#' + key + ' button');\n",
              "      quickchartButtonEl.disabled = true;  // To prevent multiple clicks.\n",
              "      quickchartButtonEl.classList.add('colab-df-spinner');\n",
              "      try {\n",
              "        const charts = await google.colab.kernel.invokeFunction(\n",
              "            'suggestCharts', [key], {});\n",
              "      } catch (error) {\n",
              "        console.error('Error during call to suggestCharts:', error);\n",
              "      }\n",
              "      quickchartButtonEl.classList.remove('colab-df-spinner');\n",
              "      quickchartButtonEl.classList.add('colab-df-quickchart-complete');\n",
              "    }\n",
              "    (() => {\n",
              "      let quickchartButtonEl =\n",
              "        document.querySelector('#df-b48cde0d-c261-45e9-8681-4ce8549bf184 button');\n",
              "      quickchartButtonEl.style.display =\n",
              "        google.colab.kernel.accessAllowed ? 'block' : 'none';\n",
              "    })();\n",
              "  </script>\n",
              "</div>\n",
              "\n",
              "    </div>\n",
              "  </div>\n"
            ],
            "application/vnd.google.colaboratory.intrinsic+json": {
              "type": "dataframe",
              "variable_name": "final_data",
              "summary": "{\n  \"name\": \"final_data\",\n  \"rows\": 126,\n  \"fields\": [\n    {\n      \"column\": \"comments\",\n      \"properties\": {\n        \"dtype\": \"string\",\n        \"num_unique_values\": 126,\n        \"samples\": [\n          \"There are wayyyyyyy too many good clinics looking for vets for you to stay in a bad situation like this. Please get out now and find a better place with mentorship. There are soooo many better places to work. A different clinic may not be perfect, but most places are better than this\",\n          \"Thank you so much. ---> /r/MysteriumNetwork/comments/vhh1uh/defining_node_searches/idb5df7/\",\n          \"I\\u2019m a pediatric nurse, can I add that to the venn diagram lol\"\n        ],\n        \"semantic_type\": \"\",\n        \"description\": \"\"\n      }\n    },\n    {\n      \"column\": \"labels\",\n      \"properties\": {\n        \"dtype\": \"category\",\n        \"num_unique_values\": 3,\n        \"samples\": [\n          \"other\",\n          \"medical_doctor\",\n          \"veterinarian\"\n        ],\n        \"semantic_type\": \"\",\n        \"description\": \"\"\n      }\n    },\n    {\n      \"column\": \"clean_comments\",\n      \"properties\": {\n        \"dtype\": \"string\",\n        \"num_unique_values\": 126,\n        \"samples\": [\n          \"wayyyyyyy many good clinic looking vet stay bad situation like  please get find better place mentorship  soooo many better place work  different clinic may perfect  place better\",\n          \"thank much     rmysteriumnetworkcommentsvhhuhdefining_node_searchesidbdf\",\n          \" pediatric nurse  add venn diagram lol\"\n        ],\n        \"semantic_type\": \"\",\n        \"description\": \"\"\n      }\n    }\n  ]\n}"
            }
          },
          "metadata": {},
          "execution_count": 29
        }
      ],
      "source": [
        "final_data.head()"
      ]
    },
    {
      "cell_type": "markdown",
      "metadata": {
        "id": "3W9L9F1Yx9F3"
      },
      "source": [
        "### Model Training."
      ]
    },
    {
      "cell_type": "code",
      "execution_count": null,
      "metadata": {
        "id": "L7CL3hZmxRSC"
      },
      "outputs": [],
      "source": [
        "from sklearn.svm import SVC\n",
        "from sklearn.naive_bayes import MultinomialNB\n",
        "from sklearn.tree import DecisionTreeClassifier\n",
        "from sklearn.ensemble import RandomForestClassifier\n",
        "from sklearn.metrics import classification_report, confusion_matrix"
      ]
    },
    {
      "cell_type": "code",
      "execution_count": null,
      "metadata": {
        "id": "SYDRZN2gvquJ"
      },
      "outputs": [],
      "source": [
        "vectorizer = TfidfVectorizer() #analyzer='word', token_pattern=r'\\w{1,}', ngram_range=(2,3), max_features=5000\n",
        "oversample = SMOTE()\n",
        "classifier = MultinomialNB()"
      ]
    },
    {
      "cell_type": "code",
      "execution_count": null,
      "metadata": {
        "id": "G6CsiEL4yjk0"
      },
      "outputs": [],
      "source": [
        "y_labels = final_data[\"labels\"].to_list()\n",
        "x_feats = final_data[\"clean_comments\"].to_list()"
      ]
    },
    {
      "cell_type": "code",
      "execution_count": null,
      "metadata": {
        "colab": {
          "base_uri": "https://localhost:8080/",
          "height": 75
        },
        "id": "aUB1RylJ19hC",
        "outputId": "1844eca1-6524-4164-b490-541be8b3a5d5"
      },
      "outputs": [
        {
          "output_type": "execute_result",
          "data": {
            "text/plain": [
              "TfidfVectorizer()"
            ],
            "text/html": [
              "<style>#sk-container-id-1 {color: black;background-color: white;}#sk-container-id-1 pre{padding: 0;}#sk-container-id-1 div.sk-toggleable {background-color: white;}#sk-container-id-1 label.sk-toggleable__label {cursor: pointer;display: block;width: 100%;margin-bottom: 0;padding: 0.3em;box-sizing: border-box;text-align: center;}#sk-container-id-1 label.sk-toggleable__label-arrow:before {content: \"▸\";float: left;margin-right: 0.25em;color: #696969;}#sk-container-id-1 label.sk-toggleable__label-arrow:hover:before {color: black;}#sk-container-id-1 div.sk-estimator:hover label.sk-toggleable__label-arrow:before {color: black;}#sk-container-id-1 div.sk-toggleable__content {max-height: 0;max-width: 0;overflow: hidden;text-align: left;background-color: #f0f8ff;}#sk-container-id-1 div.sk-toggleable__content pre {margin: 0.2em;color: black;border-radius: 0.25em;background-color: #f0f8ff;}#sk-container-id-1 input.sk-toggleable__control:checked~div.sk-toggleable__content {max-height: 200px;max-width: 100%;overflow: auto;}#sk-container-id-1 input.sk-toggleable__control:checked~label.sk-toggleable__label-arrow:before {content: \"▾\";}#sk-container-id-1 div.sk-estimator input.sk-toggleable__control:checked~label.sk-toggleable__label {background-color: #d4ebff;}#sk-container-id-1 div.sk-label input.sk-toggleable__control:checked~label.sk-toggleable__label {background-color: #d4ebff;}#sk-container-id-1 input.sk-hidden--visually {border: 0;clip: rect(1px 1px 1px 1px);clip: rect(1px, 1px, 1px, 1px);height: 1px;margin: -1px;overflow: hidden;padding: 0;position: absolute;width: 1px;}#sk-container-id-1 div.sk-estimator {font-family: monospace;background-color: #f0f8ff;border: 1px dotted black;border-radius: 0.25em;box-sizing: border-box;margin-bottom: 0.5em;}#sk-container-id-1 div.sk-estimator:hover {background-color: #d4ebff;}#sk-container-id-1 div.sk-parallel-item::after {content: \"\";width: 100%;border-bottom: 1px solid gray;flex-grow: 1;}#sk-container-id-1 div.sk-label:hover label.sk-toggleable__label {background-color: #d4ebff;}#sk-container-id-1 div.sk-serial::before {content: \"\";position: absolute;border-left: 1px solid gray;box-sizing: border-box;top: 0;bottom: 0;left: 50%;z-index: 0;}#sk-container-id-1 div.sk-serial {display: flex;flex-direction: column;align-items: center;background-color: white;padding-right: 0.2em;padding-left: 0.2em;position: relative;}#sk-container-id-1 div.sk-item {position: relative;z-index: 1;}#sk-container-id-1 div.sk-parallel {display: flex;align-items: stretch;justify-content: center;background-color: white;position: relative;}#sk-container-id-1 div.sk-item::before, #sk-container-id-1 div.sk-parallel-item::before {content: \"\";position: absolute;border-left: 1px solid gray;box-sizing: border-box;top: 0;bottom: 0;left: 50%;z-index: -1;}#sk-container-id-1 div.sk-parallel-item {display: flex;flex-direction: column;z-index: 1;position: relative;background-color: white;}#sk-container-id-1 div.sk-parallel-item:first-child::after {align-self: flex-end;width: 50%;}#sk-container-id-1 div.sk-parallel-item:last-child::after {align-self: flex-start;width: 50%;}#sk-container-id-1 div.sk-parallel-item:only-child::after {width: 0;}#sk-container-id-1 div.sk-dashed-wrapped {border: 1px dashed gray;margin: 0 0.4em 0.5em 0.4em;box-sizing: border-box;padding-bottom: 0.4em;background-color: white;}#sk-container-id-1 div.sk-label label {font-family: monospace;font-weight: bold;display: inline-block;line-height: 1.2em;}#sk-container-id-1 div.sk-label-container {text-align: center;}#sk-container-id-1 div.sk-container {/* jupyter's `normalize.less` sets `[hidden] { display: none; }` but bootstrap.min.css set `[hidden] { display: none !important; }` so we also need the `!important` here to be able to override the default hidden behavior on the sphinx rendered scikit-learn.org. See: https://github.com/scikit-learn/scikit-learn/issues/21755 */display: inline-block !important;position: relative;}#sk-container-id-1 div.sk-text-repr-fallback {display: none;}</style><div id=\"sk-container-id-1\" class=\"sk-top-container\"><div class=\"sk-text-repr-fallback\"><pre>TfidfVectorizer()</pre><b>In a Jupyter environment, please rerun this cell to show the HTML representation or trust the notebook. <br />On GitHub, the HTML representation is unable to render, please try loading this page with nbviewer.org.</b></div><div class=\"sk-container\" hidden><div class=\"sk-item\"><div class=\"sk-estimator sk-toggleable\"><input class=\"sk-toggleable__control sk-hidden--visually\" id=\"sk-estimator-id-1\" type=\"checkbox\" checked><label for=\"sk-estimator-id-1\" class=\"sk-toggleable__label sk-toggleable__label-arrow\">TfidfVectorizer</label><div class=\"sk-toggleable__content\"><pre>TfidfVectorizer()</pre></div></div></div></div></div>"
            ]
          },
          "metadata": {},
          "execution_count": 33
        }
      ],
      "source": [
        "vectorizer.fit(x_feats)"
      ]
    },
    {
      "cell_type": "code",
      "execution_count": null,
      "metadata": {
        "id": "pGdEXpNT1wbk"
      },
      "outputs": [],
      "source": [
        "x_feats_vectorized = vectorizer.transform(x_feats)"
      ]
    },
    {
      "cell_type": "code",
      "execution_count": null,
      "metadata": {
        "id": "ycsIVZVtvqlt"
      },
      "outputs": [],
      "source": [
        "X_t, y_t = oversample.fit_resample(x_feats_vectorized, y_labels)"
      ]
    },
    {
      "cell_type": "code",
      "execution_count": null,
      "metadata": {
        "colab": {
          "base_uri": "https://localhost:8080/",
          "height": 75
        },
        "id": "dliIT5bWAggh",
        "outputId": "a7784d54-1692-4f6c-cfcf-c0c901d9b428"
      },
      "outputs": [
        {
          "output_type": "execute_result",
          "data": {
            "text/plain": [
              "MultinomialNB()"
            ],
            "text/html": [
              "<style>#sk-container-id-2 {color: black;background-color: white;}#sk-container-id-2 pre{padding: 0;}#sk-container-id-2 div.sk-toggleable {background-color: white;}#sk-container-id-2 label.sk-toggleable__label {cursor: pointer;display: block;width: 100%;margin-bottom: 0;padding: 0.3em;box-sizing: border-box;text-align: center;}#sk-container-id-2 label.sk-toggleable__label-arrow:before {content: \"▸\";float: left;margin-right: 0.25em;color: #696969;}#sk-container-id-2 label.sk-toggleable__label-arrow:hover:before {color: black;}#sk-container-id-2 div.sk-estimator:hover label.sk-toggleable__label-arrow:before {color: black;}#sk-container-id-2 div.sk-toggleable__content {max-height: 0;max-width: 0;overflow: hidden;text-align: left;background-color: #f0f8ff;}#sk-container-id-2 div.sk-toggleable__content pre {margin: 0.2em;color: black;border-radius: 0.25em;background-color: #f0f8ff;}#sk-container-id-2 input.sk-toggleable__control:checked~div.sk-toggleable__content {max-height: 200px;max-width: 100%;overflow: auto;}#sk-container-id-2 input.sk-toggleable__control:checked~label.sk-toggleable__label-arrow:before {content: \"▾\";}#sk-container-id-2 div.sk-estimator input.sk-toggleable__control:checked~label.sk-toggleable__label {background-color: #d4ebff;}#sk-container-id-2 div.sk-label input.sk-toggleable__control:checked~label.sk-toggleable__label {background-color: #d4ebff;}#sk-container-id-2 input.sk-hidden--visually {border: 0;clip: rect(1px 1px 1px 1px);clip: rect(1px, 1px, 1px, 1px);height: 1px;margin: -1px;overflow: hidden;padding: 0;position: absolute;width: 1px;}#sk-container-id-2 div.sk-estimator {font-family: monospace;background-color: #f0f8ff;border: 1px dotted black;border-radius: 0.25em;box-sizing: border-box;margin-bottom: 0.5em;}#sk-container-id-2 div.sk-estimator:hover {background-color: #d4ebff;}#sk-container-id-2 div.sk-parallel-item::after {content: \"\";width: 100%;border-bottom: 1px solid gray;flex-grow: 1;}#sk-container-id-2 div.sk-label:hover label.sk-toggleable__label {background-color: #d4ebff;}#sk-container-id-2 div.sk-serial::before {content: \"\";position: absolute;border-left: 1px solid gray;box-sizing: border-box;top: 0;bottom: 0;left: 50%;z-index: 0;}#sk-container-id-2 div.sk-serial {display: flex;flex-direction: column;align-items: center;background-color: white;padding-right: 0.2em;padding-left: 0.2em;position: relative;}#sk-container-id-2 div.sk-item {position: relative;z-index: 1;}#sk-container-id-2 div.sk-parallel {display: flex;align-items: stretch;justify-content: center;background-color: white;position: relative;}#sk-container-id-2 div.sk-item::before, #sk-container-id-2 div.sk-parallel-item::before {content: \"\";position: absolute;border-left: 1px solid gray;box-sizing: border-box;top: 0;bottom: 0;left: 50%;z-index: -1;}#sk-container-id-2 div.sk-parallel-item {display: flex;flex-direction: column;z-index: 1;position: relative;background-color: white;}#sk-container-id-2 div.sk-parallel-item:first-child::after {align-self: flex-end;width: 50%;}#sk-container-id-2 div.sk-parallel-item:last-child::after {align-self: flex-start;width: 50%;}#sk-container-id-2 div.sk-parallel-item:only-child::after {width: 0;}#sk-container-id-2 div.sk-dashed-wrapped {border: 1px dashed gray;margin: 0 0.4em 0.5em 0.4em;box-sizing: border-box;padding-bottom: 0.4em;background-color: white;}#sk-container-id-2 div.sk-label label {font-family: monospace;font-weight: bold;display: inline-block;line-height: 1.2em;}#sk-container-id-2 div.sk-label-container {text-align: center;}#sk-container-id-2 div.sk-container {/* jupyter's `normalize.less` sets `[hidden] { display: none; }` but bootstrap.min.css set `[hidden] { display: none !important; }` so we also need the `!important` here to be able to override the default hidden behavior on the sphinx rendered scikit-learn.org. See: https://github.com/scikit-learn/scikit-learn/issues/21755 */display: inline-block !important;position: relative;}#sk-container-id-2 div.sk-text-repr-fallback {display: none;}</style><div id=\"sk-container-id-2\" class=\"sk-top-container\"><div class=\"sk-text-repr-fallback\"><pre>MultinomialNB()</pre><b>In a Jupyter environment, please rerun this cell to show the HTML representation or trust the notebook. <br />On GitHub, the HTML representation is unable to render, please try loading this page with nbviewer.org.</b></div><div class=\"sk-container\" hidden><div class=\"sk-item\"><div class=\"sk-estimator sk-toggleable\"><input class=\"sk-toggleable__control sk-hidden--visually\" id=\"sk-estimator-id-2\" type=\"checkbox\" checked><label for=\"sk-estimator-id-2\" class=\"sk-toggleable__label sk-toggleable__label-arrow\">MultinomialNB</label><div class=\"sk-toggleable__content\"><pre>MultinomialNB()</pre></div></div></div></div></div>"
            ]
          },
          "metadata": {},
          "execution_count": 38
        }
      ],
      "source": [
        "classifier.fit(X_t, y_t)"
      ]
    },
    {
      "cell_type": "markdown",
      "metadata": {
        "id": "LsAibM-_gBsy"
      },
      "source": [
        "### Text Classification"
      ]
    },
    {
      "cell_type": "code",
      "execution_count": null,
      "metadata": {
        "colab": {
          "base_uri": "https://localhost:8080/"
        },
        "id": "IQ5gr4gDgMEP",
        "outputId": "97df8b44-c4ff-4aa8-aa47-fda3ba592be0"
      },
      "outputs": [
        {
          "output_type": "execute_result",
          "data": {
            "text/plain": [
              "2"
            ]
          },
          "metadata": {},
          "execution_count": 39
        }
      ],
      "source": [
        "minority_class_test_len = len(test_data[test_data[\"labels\"] == 'medical_doctor'])\n",
        "minority_class_test_len"
      ]
    },
    {
      "cell_type": "code",
      "source": [
        "majority_class_test_len = 10"
      ],
      "metadata": {
        "id": "bc3unGW6l1ea"
      },
      "execution_count": null,
      "outputs": []
    },
    {
      "cell_type": "code",
      "execution_count": null,
      "metadata": {
        "id": "T0vfJY8dgVRH"
      },
      "outputs": [],
      "source": [
        "other_x_test = test_data[test_data[\"labels\"] == 'other'].sample(n=majority_class_test_len, random_state=RANDOM_STATE)\n",
        "medical_x_test = test_data[test_data[\"labels\"] == 'medical_doctor'].sample(n=minority_class_test_len, random_state=RANDOM_STATE)\n",
        "veterinaian_x_test = test_data[test_data[\"labels\"] == 'veterinarian'].sample(n=majority_class_test_len, random_state=RANDOM_STATE)"
      ]
    },
    {
      "cell_type": "code",
      "execution_count": null,
      "metadata": {
        "id": "5UTyRZKWgYAI"
      },
      "outputs": [],
      "source": [
        "final_data_test = pd.concat([other_x_test, medical_x_test, veterinaian_x_test], ignore_index=True, axis=0)"
      ]
    },
    {
      "cell_type": "code",
      "execution_count": null,
      "metadata": {
        "id": "4sGBinjHgaw0"
      },
      "outputs": [],
      "source": [
        "final_data_test[\"clean_comments\"] = final_data_test[\"comments\"].apply(lambda x: preprocess_text(x))"
      ]
    },
    {
      "cell_type": "code",
      "execution_count": null,
      "metadata": {
        "id": "4OynvGU5ge4L"
      },
      "outputs": [],
      "source": [
        "x_test = final_data_test[\"clean_comments\"].to_list()\n",
        "y_test = final_data_test[\"labels\"].to_list()"
      ]
    },
    {
      "cell_type": "code",
      "execution_count": null,
      "metadata": {
        "id": "Fe5gOckwgg8U"
      },
      "outputs": [],
      "source": [
        "x_test_vec = vectorizer.transform(x_test)"
      ]
    },
    {
      "cell_type": "code",
      "execution_count": null,
      "metadata": {
        "id": "YL6YdJvOgi58"
      },
      "outputs": [],
      "source": [
        "y_pred = classifier.predict(x_test_vec)"
      ]
    },
    {
      "cell_type": "code",
      "execution_count": null,
      "metadata": {
        "colab": {
          "base_uri": "https://localhost:8080/"
        },
        "id": "sDD1clzigl86",
        "outputId": "e9766bc2-24a3-4466-9006-57e514c27039"
      },
      "outputs": [
        {
          "output_type": "stream",
          "name": "stdout",
          "text": [
            "                precision    recall  f1-score   support\n",
            "\n",
            "medical_doctor       0.67      1.00      0.80         2\n",
            "         other       1.00      0.90      0.95        10\n",
            "  veterinarian       1.00      1.00      1.00        10\n",
            "\n",
            "      accuracy                           0.95        22\n",
            "     macro avg       0.89      0.97      0.92        22\n",
            "  weighted avg       0.97      0.95      0.96        22\n",
            "\n"
          ]
        }
      ],
      "source": [
        "print(classification_report(y_test, y_pred))"
      ]
    },
    {
      "cell_type": "markdown",
      "source": [
        "### Hyper-parameter fine tuninig."
      ],
      "metadata": {
        "id": "bL3DIA2fnBLa"
      }
    },
    {
      "cell_type": "markdown",
      "source": [
        "### Fine-tunning Model 1: Base Model (MultinomialNB)"
      ],
      "metadata": {
        "id": "dCBReX68uha1"
      }
    },
    {
      "cell_type": "code",
      "source": [
        "cv = RepeatedStratifiedKFold(n_splits=5, n_repeats=3, random_state=RANDOM_STATE)"
      ],
      "metadata": {
        "id": "ywhptcC9nU1_"
      },
      "execution_count": null,
      "outputs": []
    },
    {
      "cell_type": "code",
      "source": [
        "mnb_classifier = MultinomialNB()"
      ],
      "metadata": {
        "id": "ZoPBINF-nw3c"
      },
      "execution_count": null,
      "outputs": []
    },
    {
      "cell_type": "code",
      "execution_count": null,
      "metadata": {
        "id": "-1bfqLcxgqMy"
      },
      "outputs": [],
      "source": [
        "scores = cross_val_score(mnb_classifier, X_t, y_t, scoring='f1_weighted', cv=cv, n_jobs=-1)"
      ]
    },
    {
      "cell_type": "code",
      "source": [
        "scores"
      ],
      "metadata": {
        "colab": {
          "base_uri": "https://localhost:8080/"
        },
        "id": "4dD44FfUnXtM",
        "outputId": "492ef38b-0391-4bd1-99cd-4a34064ab749"
      },
      "execution_count": null,
      "outputs": [
        {
          "output_type": "execute_result",
          "data": {
            "text/plain": [
              "array([0.91636364, 0.85939394, 0.9430303 , 0.97217391, 0.94439614,\n",
              "       0.97217391, 0.91638796, 0.9430303 , 0.94405594, 0.8562963 ,\n",
              "       0.88205128, 0.88673993, 0.97217391, 0.91652174, 0.91636364])"
            ]
          },
          "metadata": {},
          "execution_count": 53
        }
      ]
    },
    {
      "cell_type": "code",
      "source": [
        "np.mean(scores)"
      ],
      "metadata": {
        "colab": {
          "base_uri": "https://localhost:8080/"
        },
        "id": "xgQrX6a1ncDT",
        "outputId": "d85c85bb-e1ad-4c14-849c-930165f24ea2"
      },
      "execution_count": null,
      "outputs": [
        {
          "output_type": "execute_result",
          "data": {
            "text/plain": [
              "0.9227435227145372"
            ]
          },
          "metadata": {},
          "execution_count": 54
        }
      ]
    },
    {
      "cell_type": "code",
      "source": [
        "from sklearn.model_selection import GridSearchCV, RandomizedSearchCV"
      ],
      "metadata": {
        "id": "EjsvFsLsq6ej"
      },
      "execution_count": null,
      "outputs": []
    },
    {
      "cell_type": "code",
      "source": [
        "def hyper_parameter_tuning(model, x, y, param_grid, grid=True, scoring='f1_weighted'):\n",
        "  #Setting the range for class weights\n",
        "  weights = np.linspace(0.0,0.99,6) #(0.0,0.99,200)\n",
        "  cv = RepeatedStratifiedKFold(n_splits=5, n_repeats=3, random_state=RANDOM_STATE)\n",
        "\n",
        "  print(param_grid)\n",
        "\n",
        "  if grid:\n",
        "    #Fitting grid search to the train data\n",
        "    param_search = GridSearchCV(estimator= model,\n",
        "                              param_grid= param_grid,\n",
        "                              cv=cv,\n",
        "                              n_jobs=-1,\n",
        "                              scoring= scoring,\n",
        "                              verbose=2).fit(x, y)\n",
        "  else:\n",
        "    #Fitting random search to the train data\n",
        "    param_search = RandomizedSearchCV(estimator= model,\n",
        "                              param_distributions= param_grid,\n",
        "                              cv=cv,\n",
        "                              n_jobs=-1,\n",
        "                              scoring=scoring,\n",
        "                              verbose=2).fit(x, y)\n",
        "\n",
        "  if grid:\n",
        "    print(\" Results from Grid Search \")\n",
        "  else:\n",
        "    print(\" Results from Random Search \" )\n",
        "\n",
        "  optimized_estimator = param_search.best_estimator_\n",
        "  print(\"\\n The best estimator across ALL searched params:\\n\", optimized_estimator)\n",
        "  print(\"\\n The best score across ALL searched params:\\n\",param_search.best_score_)\n",
        "  print(\"\\n The best parameters across ALL searched params:\\n\",param_search.best_params_)\n",
        "\n",
        "  return optimized_estimator"
      ],
      "metadata": {
        "id": "9-rJVdnqrOqe"
      },
      "execution_count": null,
      "outputs": []
    },
    {
      "cell_type": "code",
      "source": [
        "# help(temp_classifier)"
      ],
      "metadata": {
        "id": "Quo9Cq84tHMo"
      },
      "execution_count": null,
      "outputs": []
    },
    {
      "cell_type": "code",
      "source": [
        "mnb_param_grid = {\n",
        "              'alpha': [1,10,100]}"
      ],
      "metadata": {
        "id": "4D3wP4aHrtda"
      },
      "execution_count": null,
      "outputs": []
    },
    {
      "cell_type": "code",
      "source": [
        "# using grid search\n",
        "grid_search_mnb_model = hyper_parameter_tuning(mnb_classifier, X_t, y_t, mnb_param_grid, grid=True)"
      ],
      "metadata": {
        "colab": {
          "base_uri": "https://localhost:8080/"
        },
        "id": "Zoea-7sprkR7",
        "outputId": "2600d3c3-e8fe-4aa2-c6bd-911fec76cf67"
      },
      "execution_count": null,
      "outputs": [
        {
          "output_type": "stream",
          "name": "stdout",
          "text": [
            "{'alpha': [1, 10, 100]}\n",
            "Fitting 15 folds for each of 3 candidates, totalling 45 fits\n",
            " Results from Grid Search \n",
            "\n",
            " The best estimator across ALL searched params:\n",
            " MultinomialNB(alpha=1)\n",
            "\n",
            " The best score across ALL searched params:\n",
            " 0.9227435227145372\n",
            "\n",
            " The best parameters across ALL searched params:\n",
            " {'alpha': 1}\n"
          ]
        }
      ]
    },
    {
      "cell_type": "code",
      "source": [
        "# using random search\n",
        "random_search_model = hyper_parameter_tuning(mnb_classifier, X_t, y_t, mnb_param_grid, grid=False)"
      ],
      "metadata": {
        "colab": {
          "base_uri": "https://localhost:8080/"
        },
        "id": "qSfUyuzjyMOb",
        "outputId": "52daacef-7bc8-419e-e750-183f564fbae8"
      },
      "execution_count": null,
      "outputs": [
        {
          "output_type": "stream",
          "name": "stdout",
          "text": [
            "{'alpha': [1, 10, 100]}\n",
            "Fitting 15 folds for each of 3 candidates, totalling 45 fits\n"
          ]
        },
        {
          "output_type": "stream",
          "name": "stderr",
          "text": [
            "/usr/local/lib/python3.10/dist-packages/sklearn/model_selection/_search.py:305: UserWarning: The total space of parameters 3 is smaller than n_iter=10. Running 3 iterations. For exhaustive searches, use GridSearchCV.\n",
            "  warnings.warn(\n"
          ]
        },
        {
          "output_type": "stream",
          "name": "stdout",
          "text": [
            " Results from Random Search \n",
            "\n",
            " The best estimator across ALL searched params:\n",
            " MultinomialNB(alpha=1)\n",
            "\n",
            " The best score across ALL searched params:\n",
            " 0.9227435227145372\n",
            "\n",
            " The best parameters across ALL searched params:\n",
            " {'alpha': 1}\n"
          ]
        }
      ]
    },
    {
      "cell_type": "markdown",
      "source": [
        "### Fine-tunning Model 2: Random Forest Model."
      ],
      "metadata": {
        "id": "8lScblzaux7e"
      }
    },
    {
      "cell_type": "code",
      "source": [
        "rf_param_grid = {\n",
        "              'n_estimators': [10,100,500],\n",
        "              'criterion': ['gini','entropy','log_loss'],\n",
        "              'max_depth':[3,6,9],\n",
        "              'min_samples_split':[2,3],\n",
        "              'max_features':['sqrt','log2']}"
      ],
      "metadata": {
        "id": "0sq6L8J6tnnG"
      },
      "execution_count": null,
      "outputs": []
    },
    {
      "cell_type": "code",
      "source": [
        "rf_classifier = RandomForestClassifier(random_state=RANDOM_STATE)"
      ],
      "metadata": {
        "id": "ob_tXr2KvdAj"
      },
      "execution_count": null,
      "outputs": []
    },
    {
      "cell_type": "code",
      "source": [
        "scores = cross_val_score(rf_classifier, X_t, y_t, scoring='f1_weighted', cv=cv, n_jobs=-1)"
      ],
      "metadata": {
        "id": "wj7mlodZvw1m"
      },
      "execution_count": null,
      "outputs": []
    },
    {
      "cell_type": "code",
      "source": [
        "scores"
      ],
      "metadata": {
        "colab": {
          "base_uri": "https://localhost:8080/"
        },
        "id": "oh4-uhadvzPG",
        "outputId": "1557a9fc-6380-4480-9ebc-da6d7a5da9d2"
      },
      "execution_count": null,
      "outputs": [
        {
          "output_type": "execute_result",
          "data": {
            "text/plain": [
              "array([0.83216783, 0.85890653, 0.91652174, 0.82222222, 0.88571429,\n",
              "       0.91534392, 0.88811189, 0.82222222, 0.91652174, 0.85480944,\n",
              "       0.88571429, 0.77142857, 0.82222222, 0.94405594, 0.88888889])"
            ]
          },
          "metadata": {},
          "execution_count": 65
        }
      ]
    },
    {
      "cell_type": "code",
      "source": [
        "np.mean(scores)"
      ],
      "metadata": {
        "colab": {
          "base_uri": "https://localhost:8080/"
        },
        "id": "my7rndpmv3Sd",
        "outputId": "6c858d1a-271a-4321-da95-8d74c8f8ae4b"
      },
      "execution_count": null,
      "outputs": [
        {
          "output_type": "execute_result",
          "data": {
            "text/plain": [
              "0.868323447954194"
            ]
          },
          "metadata": {},
          "execution_count": 66
        }
      ]
    },
    {
      "cell_type": "code",
      "source": [
        "grid_search_rf_model = hyper_parameter_tuning(rf_classifier, X_t, y_t, rf_param_grid, grid=True)"
      ],
      "metadata": {
        "colab": {
          "base_uri": "https://localhost:8080/"
        },
        "id": "KVwJlsC1vJYB",
        "outputId": "0c554cfa-98b5-4562-e9df-7632d4060588"
      },
      "execution_count": null,
      "outputs": [
        {
          "output_type": "stream",
          "name": "stdout",
          "text": [
            "{'n_estimators': [10, 100, 500], 'criterion': ['gini', 'entropy', 'log_loss'], 'max_depth': [3, 6, 9], 'min_samples_split': [2, 3], 'max_features': ['sqrt', 'log2']}\n",
            "Fitting 15 folds for each of 108 candidates, totalling 1620 fits\n",
            " Results from Grid Search \n",
            "\n",
            " The best estimator across ALL searched params:\n",
            " RandomForestClassifier(max_depth=6, min_samples_split=3, random_state=42)\n",
            "\n",
            " The best score across ALL searched params:\n",
            " 0.8564688262655101\n",
            "\n",
            " The best parameters across ALL searched params:\n",
            " {'criterion': 'gini', 'max_depth': 6, 'max_features': 'sqrt', 'min_samples_split': 3, 'n_estimators': 100}\n"
          ]
        }
      ]
    },
    {
      "cell_type": "code",
      "source": [
        "random_search_rf_model = hyper_parameter_tuning(rf_classifier, X_t, y_t, rf_param_grid, grid=False)"
      ],
      "metadata": {
        "colab": {
          "base_uri": "https://localhost:8080/"
        },
        "id": "JiGOJUgayhPQ",
        "outputId": "f2a8bb56-1ca9-4982-faed-e0d26c8c9f9c"
      },
      "execution_count": null,
      "outputs": [
        {
          "output_type": "stream",
          "name": "stdout",
          "text": [
            "{'n_estimators': [10, 100, 500], 'criterion': ['gini', 'entropy', 'log_loss'], 'max_depth': [3, 6, 9], 'min_samples_split': [2, 3], 'max_features': ['sqrt', 'log2']}\n",
            "Fitting 15 folds for each of 10 candidates, totalling 150 fits\n",
            " Results from Random Search \n",
            "\n",
            " The best estimator across ALL searched params:\n",
            " RandomForestClassifier(criterion='entropy', max_depth=9, min_samples_split=3,\n",
            "                       random_state=42)\n",
            "\n",
            " The best score across ALL searched params:\n",
            " 0.8553931354473256\n",
            "\n",
            " The best parameters across ALL searched params:\n",
            " {'n_estimators': 100, 'min_samples_split': 3, 'max_features': 'sqrt', 'max_depth': 9, 'criterion': 'entropy'}\n"
          ]
        }
      ]
    },
    {
      "cell_type": "markdown",
      "source": [
        "### Fine-tunning Model 3: Decision Tree"
      ],
      "metadata": {
        "id": "pZx_AdmbzJP5"
      }
    },
    {
      "cell_type": "code",
      "source": [
        "dt_param_grid = {\n",
        "              'criterion': ['gini','entropy','log_loss'],\n",
        "              'max_depth':[3,6],\n",
        "              'min_samples_split':[2,3],\n",
        "              'max_features':['sqrt','log2']}"
      ],
      "metadata": {
        "id": "ltX5vo0rx3oQ"
      },
      "execution_count": null,
      "outputs": []
    },
    {
      "cell_type": "code",
      "source": [
        "dt_classifier = DecisionTreeClassifier(random_state=RANDOM_STATE)"
      ],
      "metadata": {
        "id": "b2y9hqlCzmzm"
      },
      "execution_count": null,
      "outputs": []
    },
    {
      "cell_type": "code",
      "source": [
        "scores = cross_val_score(dt_classifier, X_t, y_t, scoring='f1_weighted', cv=cv, n_jobs=-1)"
      ],
      "metadata": {
        "id": "e7eWI09Vztpo"
      },
      "execution_count": null,
      "outputs": []
    },
    {
      "cell_type": "code",
      "source": [
        "scores"
      ],
      "metadata": {
        "colab": {
          "base_uri": "https://localhost:8080/"
        },
        "id": "eJBp5qoizvvn",
        "outputId": "374aeb32-400a-494b-b89e-d984cdc4446e"
      },
      "execution_count": null,
      "outputs": [
        {
          "output_type": "execute_result",
          "data": {
            "text/plain": [
              "array([0.77146042, 0.80246914, 0.91340659, 0.71296296, 0.85793651,\n",
              "       0.80521739, 0.88888889, 0.74473118, 0.80439005, 0.77601954,\n",
              "       0.77381134, 0.6762963 , 0.73353383, 0.76842912, 0.83216783])"
            ]
          },
          "metadata": {},
          "execution_count": 75
        }
      ]
    },
    {
      "cell_type": "code",
      "source": [
        "np.mean(scores)"
      ],
      "metadata": {
        "colab": {
          "base_uri": "https://localhost:8080/"
        },
        "id": "M1UTugVnzxa2",
        "outputId": "41ed6a82-de72-4996-dcc7-ebd1905df8a0"
      },
      "execution_count": null,
      "outputs": [
        {
          "output_type": "execute_result",
          "data": {
            "text/plain": [
              "0.7907814065940001"
            ]
          },
          "metadata": {},
          "execution_count": 76
        }
      ]
    },
    {
      "cell_type": "code",
      "source": [
        "grid_search_dt_model = hyper_parameter_tuning(dt_classifier, X_t, y_t, dt_param_grid, grid=True)"
      ],
      "metadata": {
        "colab": {
          "base_uri": "https://localhost:8080/"
        },
        "id": "cI4AHY_ZzyZW",
        "outputId": "38ad8cdc-cdf8-4d63-fe76-3bb7f99c1d2a"
      },
      "execution_count": null,
      "outputs": [
        {
          "output_type": "stream",
          "name": "stdout",
          "text": [
            "{'criterion': ['gini', 'entropy', 'log_loss'], 'max_depth': [3, 6], 'min_samples_split': [2, 3], 'max_features': ['sqrt', 'log2']}\n",
            "Fitting 15 folds for each of 24 candidates, totalling 360 fits\n",
            " Results from Grid Search \n",
            "\n",
            " The best estimator across ALL searched params:\n",
            " DecisionTreeClassifier(criterion='entropy', max_depth=6, max_features='sqrt',\n",
            "                       random_state=42)\n",
            "\n",
            " The best score across ALL searched params:\n",
            " 0.525092784350409\n",
            "\n",
            " The best parameters across ALL searched params:\n",
            " {'criterion': 'entropy', 'max_depth': 6, 'max_features': 'sqrt', 'min_samples_split': 2}\n"
          ]
        }
      ]
    },
    {
      "cell_type": "code",
      "source": [
        "random_search_dt_model = hyper_parameter_tuning(dt_classifier, X_t, y_t, dt_param_grid, grid=False)"
      ],
      "metadata": {
        "colab": {
          "base_uri": "https://localhost:8080/"
        },
        "id": "3xU0FhNjz_TU",
        "outputId": "5d95d4fd-6e5c-4326-fece-582bba2b6afe"
      },
      "execution_count": null,
      "outputs": [
        {
          "output_type": "stream",
          "name": "stdout",
          "text": [
            "{'criterion': ['gini', 'entropy', 'log_loss'], 'max_depth': [3, 6], 'min_samples_split': [2, 3], 'max_features': ['sqrt', 'log2']}\n",
            "Fitting 15 folds for each of 10 candidates, totalling 150 fits\n",
            " Results from Random Search \n",
            "\n",
            " The best estimator across ALL searched params:\n",
            " DecisionTreeClassifier(criterion='log_loss', max_depth=6, max_features='sqrt',\n",
            "                       random_state=42)\n",
            "\n",
            " The best score across ALL searched params:\n",
            " 0.525092784350409\n",
            "\n",
            " The best parameters across ALL searched params:\n",
            " {'min_samples_split': 2, 'max_features': 'sqrt', 'max_depth': 6, 'criterion': 'log_loss'}\n"
          ]
        }
      ]
    },
    {
      "cell_type": "markdown",
      "source": [
        "Fine-tunning Model 4: SVM"
      ],
      "metadata": {
        "id": "cQ3qvnfo0m6G"
      }
    },
    {
      "cell_type": "code",
      "source": [
        "# help(SVC)"
      ],
      "metadata": {
        "id": "ZQPkVjSu1n-v"
      },
      "execution_count": null,
      "outputs": []
    },
    {
      "cell_type": "code",
      "source": [
        "svm_param_grid = {\n",
        "              'C': [1,10,100],\n",
        "              'kernel': ['poly', 'rbf', 'sigmoid'],\n",
        "              'gamma':['scale', 'auto'],\n",
        "              'coef0':[1,1.5]\n",
        "              }"
      ],
      "metadata": {
        "id": "HB4dtwlu0LFU"
      },
      "execution_count": null,
      "outputs": []
    },
    {
      "cell_type": "code",
      "source": [
        "svm_classifier = SVC(random_state=RANDOM_STATE)"
      ],
      "metadata": {
        "id": "pv9L-mza1HCv"
      },
      "execution_count": null,
      "outputs": []
    },
    {
      "cell_type": "code",
      "source": [
        "scores = cross_val_score(svm_classifier, X_t, y_t, scoring='f1_weighted', cv=cv, n_jobs=-1)"
      ],
      "metadata": {
        "id": "5X_OSbbj1Qj8"
      },
      "execution_count": null,
      "outputs": []
    },
    {
      "cell_type": "code",
      "source": [
        "scores"
      ],
      "metadata": {
        "colab": {
          "base_uri": "https://localhost:8080/"
        },
        "id": "FlY84xQq1Qft",
        "outputId": "7f43a42e-696a-4a2a-d5f7-a167562a7857"
      },
      "execution_count": null,
      "outputs": [
        {
          "output_type": "execute_result",
          "data": {
            "text/plain": [
              "array([0.85890653, 0.85480944, 0.97217391, 0.85480944, 0.97217391,\n",
              "       0.97217391, 0.94405594, 0.66386555, 0.83216783, 0.91534392,\n",
              "       0.91534392, 0.91534392, 0.88571429, 0.94405594, 0.88811189])"
            ]
          },
          "metadata": {},
          "execution_count": 83
        }
      ]
    },
    {
      "cell_type": "code",
      "source": [
        "np.mean(scores)"
      ],
      "metadata": {
        "colab": {
          "base_uri": "https://localhost:8080/"
        },
        "id": "NqTtGgVL1QcS",
        "outputId": "0fb02626-c999-4d3b-b39c-b37a757fe501"
      },
      "execution_count": null,
      "outputs": [
        {
          "output_type": "execute_result",
          "data": {
            "text/plain": [
              "0.892603355055526"
            ]
          },
          "metadata": {},
          "execution_count": 84
        }
      ]
    },
    {
      "cell_type": "code",
      "source": [
        "grid_search_svm_model = hyper_parameter_tuning(svm_classifier, X_t, y_t, svm_param_grid, grid=True)"
      ],
      "metadata": {
        "colab": {
          "base_uri": "https://localhost:8080/"
        },
        "id": "OZeNGqvI1QZp",
        "outputId": "64972f3d-3f3e-417c-f972-52791163622e"
      },
      "execution_count": null,
      "outputs": [
        {
          "output_type": "stream",
          "name": "stdout",
          "text": [
            "{'C': [1, 10, 100], 'kernel': ['poly', 'rbf', 'sigmoid'], 'gamma': ['scale', 'auto'], 'coef0': [1, 1.5]}\n",
            "Fitting 15 folds for each of 36 candidates, totalling 540 fits\n",
            " Results from Grid Search \n",
            "\n",
            " The best estimator across ALL searched params:\n",
            " SVC(C=1, coef0=1.5, kernel='poly', random_state=42)\n",
            "\n",
            " The best score across ALL searched params:\n",
            " 0.9189559118641244\n",
            "\n",
            " The best parameters across ALL searched params:\n",
            " {'C': 1, 'coef0': 1.5, 'gamma': 'scale', 'kernel': 'poly'}\n"
          ]
        }
      ]
    },
    {
      "cell_type": "code",
      "source": [
        "random_search_svm_model = hyper_parameter_tuning(svm_classifier, X_t, y_t, svm_param_grid, grid=False)"
      ],
      "metadata": {
        "colab": {
          "base_uri": "https://localhost:8080/"
        },
        "id": "SAbRFsW21QW1",
        "outputId": "9ebac52a-11d5-4fc9-f0de-f7a443c0ef3f"
      },
      "execution_count": null,
      "outputs": [
        {
          "output_type": "stream",
          "name": "stdout",
          "text": [
            "{'C': [1, 10, 100], 'kernel': ['poly', 'rbf', 'sigmoid'], 'gamma': ['scale', 'auto'], 'coef0': [1, 1.5]}\n",
            "Fitting 15 folds for each of 10 candidates, totalling 150 fits\n",
            " Results from Random Search \n",
            "\n",
            " The best estimator across ALL searched params:\n",
            " SVC(C=10, coef0=1.5, random_state=42)\n",
            "\n",
            " The best score across ALL searched params:\n",
            " 0.9168502298143092\n",
            "\n",
            " The best parameters across ALL searched params:\n",
            " {'kernel': 'rbf', 'gamma': 'scale', 'coef0': 1.5, 'C': 10}\n"
          ]
        }
      ]
    },
    {
      "cell_type": "markdown",
      "source": [
        "### Comparing best performing model and second best."
      ],
      "metadata": {
        "id": "9OEZ_rn7L5ep"
      }
    },
    {
      "cell_type": "code",
      "source": [
        "best_performing_model = classifier"
      ],
      "metadata": {
        "id": "L0o95aAiMGIE"
      },
      "execution_count": null,
      "outputs": []
    },
    {
      "cell_type": "code",
      "source": [
        "second_best_peforming_model = grid_search_svm_model"
      ],
      "metadata": {
        "id": "yPqdgTAaMJqF"
      },
      "execution_count": null,
      "outputs": []
    },
    {
      "cell_type": "code",
      "source": [
        "y_pred_one = best_performing_model.predict(x_test_vec)\n",
        "print(classification_report(y_test, y_pred_one))"
      ],
      "metadata": {
        "colab": {
          "base_uri": "https://localhost:8080/"
        },
        "id": "ZG6Y0XH-LDVI",
        "outputId": "e45e5ee6-4850-43cf-e639-89f2f1d6e46e"
      },
      "execution_count": null,
      "outputs": [
        {
          "output_type": "stream",
          "name": "stdout",
          "text": [
            "                precision    recall  f1-score   support\n",
            "\n",
            "medical_doctor       0.67      1.00      0.80         2\n",
            "         other       1.00      0.90      0.95        10\n",
            "  veterinarian       1.00      1.00      1.00        10\n",
            "\n",
            "      accuracy                           0.95        22\n",
            "     macro avg       0.89      0.97      0.92        22\n",
            "  weighted avg       0.97      0.95      0.96        22\n",
            "\n"
          ]
        }
      ]
    },
    {
      "cell_type": "code",
      "source": [
        "y_pred_two = second_best_peforming_model.predict(x_test_vec)\n",
        "print(classification_report(y_test, y_pred_two))"
      ],
      "metadata": {
        "colab": {
          "base_uri": "https://localhost:8080/"
        },
        "id": "-B2kTDuGLDSA",
        "outputId": "28ce3e71-0009-4570-d768-b7a6097d402d"
      },
      "execution_count": null,
      "outputs": [
        {
          "output_type": "stream",
          "name": "stdout",
          "text": [
            "                precision    recall  f1-score   support\n",
            "\n",
            "medical_doctor       1.00      0.50      0.67         2\n",
            "         other       0.91      1.00      0.95        10\n",
            "  veterinarian       1.00      1.00      1.00        10\n",
            "\n",
            "      accuracy                           0.95        22\n",
            "     macro avg       0.97      0.83      0.87        22\n",
            "  weighted avg       0.96      0.95      0.95        22\n",
            "\n"
          ]
        }
      ]
    },
    {
      "cell_type": "markdown",
      "source": [
        "### Although the both models have good accuracy, The best performing model is selected due to having a better f1 score accross the three labels, this is important because of the imbalance in the dataset."
      ],
      "metadata": {
        "id": "Fzkalf3jM5qe"
      }
    },
    {
      "cell_type": "markdown",
      "source": [
        "### Saving Best performing model and vectorizer"
      ],
      "metadata": {
        "id": "RaiHupw9-dcl"
      }
    },
    {
      "cell_type": "code",
      "source": [
        "best_model = best_performing_model\n",
        "best_model_path = \"/content/drive/MyDrive/Finch-Health/model/best_classfier.pkl\""
      ],
      "metadata": {
        "id": "ueTCqTg5_OIa"
      },
      "execution_count": null,
      "outputs": []
    },
    {
      "cell_type": "code",
      "source": [
        "import pickle"
      ],
      "metadata": {
        "id": "BL7JEnUq-gcw"
      },
      "execution_count": null,
      "outputs": []
    },
    {
      "cell_type": "code",
      "source": [
        "with open(best_model_path,\"wb\") as file:\n",
        "  pickle.dump(best_model, file)"
      ],
      "metadata": {
        "id": "VXGb3zhY-5Kl"
      },
      "execution_count": null,
      "outputs": []
    },
    {
      "cell_type": "code",
      "source": [
        "vectorizer_model_path = \"/content/drive/MyDrive/Finch-Health/model/vectorizer.pkl\""
      ],
      "metadata": {
        "id": "GEzTq9LvR0Pk"
      },
      "execution_count": null,
      "outputs": []
    },
    {
      "cell_type": "code",
      "source": [
        "with open(vectorizer_model_path,\"wb\") as file:\n",
        "  pickle.dump(vectorizer, file)"
      ],
      "metadata": {
        "id": "ko4AfoA7Ru06"
      },
      "execution_count": null,
      "outputs": []
    },
    {
      "cell_type": "code",
      "source": [],
      "metadata": {
        "id": "E1F4rwG2SGvX"
      },
      "execution_count": null,
      "outputs": []
    }
  ],
  "metadata": {
    "colab": {
      "provenance": []
    },
    "kernelspec": {
      "display_name": "Python 3",
      "name": "python3"
    },
    "language_info": {
      "name": "python"
    }
  },
  "nbformat": 4,
  "nbformat_minor": 0
}